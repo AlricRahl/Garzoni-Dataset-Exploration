{
 "cells": [
  {
   "cell_type": "code",
   "execution_count": 2,
   "metadata": {},
   "outputs": [],
   "source": [
    "from itertools import combinations\n",
    "import pandas as pd\n",
    "import networkx as nx\n",
    "import numpy as np\n",
    "from tqdm import tqdm\n",
    "\n",
    "import cleantools as clnt"
   ]
  },
  {
   "cell_type": "markdown",
   "metadata": {},
   "source": [
    "# Generation of Network #"
   ]
  },
  {
   "cell_type": "code",
   "execution_count": 4,
   "metadata": {},
   "outputs": [],
   "source": [
    "def getEdges(column):\n",
    "    \"\"\"Takes in a data frame. Returns a list of edges for networkx.\n",
    "    The edges are generated with the assumption that everyone in the same contract is connected\"\"\"\n",
    "    return list(combinations(list(column),2))"
   ]
  },
  {
   "cell_type": "code",
   "execution_count": 5,
   "metadata": {},
   "outputs": [
    {
     "name": "stderr",
     "output_type": "stream",
     "text": [
      "100%|██████████| 54088/54088 [00:07<00:00, 6793.76it/s]\n"
     ]
    }
   ],
   "source": [
    "# Load data frames\n",
    "sub_tables_ungrouped = clnt.loadPickle(\"../data/pickles/sub_tables.pkl\")\n",
    "mentions = clnt.loadPickle(\"../data/pickles/clean_mentions.pkl\")[[\"Person ID\", \"Tag\"]]\n",
    "\n",
    "# Group the contracts\n",
    "sub_table_groups = sub_tables_ungrouped.groupby(\"Contract ID\")\n",
    "\n",
    "# Extract the edgelist by assuming everyone in a contract is interconnected\n",
    "edges = list()\n",
    "for name, table in tqdm(sub_table_groups):\n",
    "    edges += getEdges(table.index)"
   ]
  },
  {
   "cell_type": "code",
   "execution_count": 6,
   "metadata": {},
   "outputs": [],
   "source": [
    "# We generate the graph and store it here\n",
    "G = nx.Graph()\n",
    "G.add_nodes_from(sub_tables_ungrouped.index)\n",
    "G.add_edges_from(edges)\n",
    "\n",
    "# We remove the unconnected nodes, roughly 21 of them are present in this graph\n",
    "G.remove_nodes_from([node for node in G.nodes if G.degree[node] == 0])\n",
    "\n",
    "# Save graph\n",
    "# clnt.savePickle(G, \"../data/pickles/social_network_graph_dc.pkl\")"
   ]
  },
  {
   "cell_type": "markdown",
   "metadata": {},
   "source": [
    "# Initial Check #"
   ]
  },
  {
   "cell_type": "code",
   "execution_count": 10,
   "metadata": {},
   "outputs": [],
   "source": [
    "# Load graph\n",
    "G = clnt.loadPickle(\"../data/pickles/social_network_graph_dc.pkl\")"
   ]
  },
  {
   "cell_type": "code",
   "execution_count": 11,
   "metadata": {},
   "outputs": [
    {
     "name": "stdout",
     "output_type": "stream",
     "text": [
      "Basics of the Graph\n",
      "Number of nodes: 156059\n",
      "Number of edges: 157985\n",
      "Number of connected components: 54059\n",
      "Average degree: 2.0246829724655417\n"
     ]
    }
   ],
   "source": [
    "print(\"Basics of the Network\")\n",
    "print(f\"Number of nodes: {len(G.nodes)}\")\n",
    "print(f\"Number of edges: {len(G.edges)}\")\n",
    "print(f\"Number of connected components: {nx.number_connected_components(G)}\")\n",
    "print(f\"Average degree: {np.mean([G.degree[node] for node in G.nodes])}\")"
   ]
  },
  {
   "cell_type": "code",
   "execution_count": 12,
   "metadata": {},
   "outputs": [
    {
     "name": "stdout",
     "output_type": "stream",
     "text": [
      "Average Component Size: 2.8868273552969903\n",
      "Largest Component Size: 9\n",
      "Smallest Component Size: 2\n"
     ]
    }
   ],
   "source": [
    "sizes = [len(comp) for comp in nx.connected_components(G)]\n",
    "print(f\"Average Component Size: {np.mean(sizes)}\")\n",
    "print(f\"Largest Component Size: {np.max(sizes)}\")\n",
    "print(f\"Smallest Component Size: {np.min(sizes)}\")"
   ]
  },
  {
   "cell_type": "markdown",
   "metadata": {},
   "source": [
    "# Extracting Categories From Network #"
   ]
  },
  {
   "cell_type": "code",
   "execution_count": 8,
   "metadata": {},
   "outputs": [],
   "source": [
    "# Load and filter the frame\n",
    "sub_tables_ungrouped = clnt.loadPickle(\"../data/pickles/sub_tables.pkl\")\n",
    "df = clnt.loadPickle(\"../data/pickles/table_of_all.pkl\").reset_index()\n",
    "notFamily = \"grz:hasBusinessWith grz:isColleagueOf grz:genericReference\".split()\n",
    "\n",
    "# Further filtering\n",
    "sub_tables_ungrouped[\"Gender\"] = sub_tables_ungrouped[\"Gender\"].apply(lambda x:x == \"grz:Female\")\n",
    "\n",
    "# Here is to erase any non-family connections\n",
    "for a in notFamily:\n",
    "    sub_tables_ungrouped[\"Relationship From Apprentice\"] = sub_tables_ungrouped[\"Relationship From Apprentice\"].replace(a, np.nan)\n",
    "\n",
    "# Group and keep filtering\n",
    "sub_table_groups = sub_tables_ungrouped.groupby(\"Contract ID\")\n",
    "has_female = sub_table_groups.apply(lambda x:x[\"Gender\"].sum() > 0).copy()\n",
    "has_relations = sub_table_groups.apply(lambda x:len(x[(x[\"Is Guarantor\"] == 1) &\n",
    "                                                      (x[\"Relationship From Apprentice\"].notna())]) > 0).copy()"
   ]
  },
  {
   "cell_type": "code",
   "execution_count": 9,
   "metadata": {},
   "outputs": [
    {
     "data": {
      "text/html": [
       "<div>\n",
       "<style scoped>\n",
       "    .dataframe tbody tr th:only-of-type {\n",
       "        vertical-align: middle;\n",
       "    }\n",
       "\n",
       "    .dataframe tbody tr th {\n",
       "        vertical-align: top;\n",
       "    }\n",
       "\n",
       "    .dataframe thead th {\n",
       "        text-align: right;\n",
       "    }\n",
       "</style>\n",
       "<table border=\"1\" class=\"dataframe\">\n",
       "  <thead>\n",
       "    <tr style=\"text-align: right;\">\n",
       "      <th></th>\n",
       "      <th>Has Apprentice Relation</th>\n",
       "      <th>Has Female in Contract</th>\n",
       "      <th>From Venezia</th>\n",
       "      <th>Category</th>\n",
       "    </tr>\n",
       "    <tr>\n",
       "      <th>Contract ID</th>\n",
       "      <th></th>\n",
       "      <th></th>\n",
       "      <th></th>\n",
       "      <th></th>\n",
       "    </tr>\n",
       "  </thead>\n",
       "  <tbody>\n",
       "    <tr>\n",
       "      <th>0000bab9-4e20-4ac4-9542-3c1d09d512e3</th>\n",
       "      <td>False</td>\n",
       "      <td>False</td>\n",
       "      <td>0</td>\n",
       "      <td>0</td>\n",
       "    </tr>\n",
       "    <tr>\n",
       "      <th>0002595f-fea7-4630-8086-8b8269ceae4f</th>\n",
       "      <td>True</td>\n",
       "      <td>False</td>\n",
       "      <td>0</td>\n",
       "      <td>1</td>\n",
       "    </tr>\n",
       "    <tr>\n",
       "      <th>000263cc-9017-46e6-b16d-20b4b3ed5d17</th>\n",
       "      <td>False</td>\n",
       "      <td>False</td>\n",
       "      <td>1</td>\n",
       "      <td>4</td>\n",
       "    </tr>\n",
       "    <tr>\n",
       "      <th>0002b49d-cac7-454d-83a8-65ad09a3a427</th>\n",
       "      <td>True</td>\n",
       "      <td>False</td>\n",
       "      <td>1</td>\n",
       "      <td>5</td>\n",
       "    </tr>\n",
       "    <tr>\n",
       "      <th>0002f41e-07d3-476b-b25d-7d6127d7bc5b</th>\n",
       "      <td>False</td>\n",
       "      <td>False</td>\n",
       "      <td>0</td>\n",
       "      <td>0</td>\n",
       "    </tr>\n",
       "    <tr>\n",
       "      <th>...</th>\n",
       "      <td>...</td>\n",
       "      <td>...</td>\n",
       "      <td>...</td>\n",
       "      <td>...</td>\n",
       "    </tr>\n",
       "    <tr>\n",
       "      <th>fff9669b-6a1c-4e34-bd8c-c039938b2dc1</th>\n",
       "      <td>False</td>\n",
       "      <td>False</td>\n",
       "      <td>1</td>\n",
       "      <td>4</td>\n",
       "    </tr>\n",
       "    <tr>\n",
       "      <th>fff9fc1a-2dc8-4bd0-98f9-098dd131c11e</th>\n",
       "      <td>False</td>\n",
       "      <td>False</td>\n",
       "      <td>1</td>\n",
       "      <td>4</td>\n",
       "    </tr>\n",
       "    <tr>\n",
       "      <th>fffc5a65-d354-4a24-a110-81e8d426005b</th>\n",
       "      <td>True</td>\n",
       "      <td>False</td>\n",
       "      <td>1</td>\n",
       "      <td>5</td>\n",
       "    </tr>\n",
       "    <tr>\n",
       "      <th>fffd998d-f24f-467a-87b4-a79cf5ac76fb</th>\n",
       "      <td>True</td>\n",
       "      <td>False</td>\n",
       "      <td>1</td>\n",
       "      <td>5</td>\n",
       "    </tr>\n",
       "    <tr>\n",
       "      <th>ffffc654-ba4c-4136-ae80-0dcfebff3af9</th>\n",
       "      <td>False</td>\n",
       "      <td>False</td>\n",
       "      <td>0</td>\n",
       "      <td>0</td>\n",
       "    </tr>\n",
       "  </tbody>\n",
       "</table>\n",
       "<p>54088 rows × 4 columns</p>\n",
       "</div>"
      ],
      "text/plain": [
       "                                      Has Apprentice Relation  \\\n",
       "Contract ID                                                     \n",
       "0000bab9-4e20-4ac4-9542-3c1d09d512e3                    False   \n",
       "0002595f-fea7-4630-8086-8b8269ceae4f                     True   \n",
       "000263cc-9017-46e6-b16d-20b4b3ed5d17                    False   \n",
       "0002b49d-cac7-454d-83a8-65ad09a3a427                     True   \n",
       "0002f41e-07d3-476b-b25d-7d6127d7bc5b                    False   \n",
       "...                                                       ...   \n",
       "fff9669b-6a1c-4e34-bd8c-c039938b2dc1                    False   \n",
       "fff9fc1a-2dc8-4bd0-98f9-098dd131c11e                    False   \n",
       "fffc5a65-d354-4a24-a110-81e8d426005b                     True   \n",
       "fffd998d-f24f-467a-87b4-a79cf5ac76fb                     True   \n",
       "ffffc654-ba4c-4136-ae80-0dcfebff3af9                    False   \n",
       "\n",
       "                                      Has Female in Contract  From Venezia  \\\n",
       "Contract ID                                                                  \n",
       "0000bab9-4e20-4ac4-9542-3c1d09d512e3                   False             0   \n",
       "0002595f-fea7-4630-8086-8b8269ceae4f                   False             0   \n",
       "000263cc-9017-46e6-b16d-20b4b3ed5d17                   False             1   \n",
       "0002b49d-cac7-454d-83a8-65ad09a3a427                   False             1   \n",
       "0002f41e-07d3-476b-b25d-7d6127d7bc5b                   False             0   \n",
       "...                                                      ...           ...   \n",
       "fff9669b-6a1c-4e34-bd8c-c039938b2dc1                   False             1   \n",
       "fff9fc1a-2dc8-4bd0-98f9-098dd131c11e                   False             1   \n",
       "fffc5a65-d354-4a24-a110-81e8d426005b                   False             1   \n",
       "fffd998d-f24f-467a-87b4-a79cf5ac76fb                   False             1   \n",
       "ffffc654-ba4c-4136-ae80-0dcfebff3af9                   False             0   \n",
       "\n",
       "                                      Category  \n",
       "Contract ID                                     \n",
       "0000bab9-4e20-4ac4-9542-3c1d09d512e3         0  \n",
       "0002595f-fea7-4630-8086-8b8269ceae4f         1  \n",
       "000263cc-9017-46e6-b16d-20b4b3ed5d17         4  \n",
       "0002b49d-cac7-454d-83a8-65ad09a3a427         5  \n",
       "0002f41e-07d3-476b-b25d-7d6127d7bc5b         0  \n",
       "...                                        ...  \n",
       "fff9669b-6a1c-4e34-bd8c-c039938b2dc1         4  \n",
       "fff9fc1a-2dc8-4bd0-98f9-098dd131c11e         4  \n",
       "fffc5a65-d354-4a24-a110-81e8d426005b         5  \n",
       "fffd998d-f24f-467a-87b4-a79cf5ac76fb         5  \n",
       "ffffc654-ba4c-4136-ae80-0dcfebff3af9         0  \n",
       "\n",
       "[54088 rows x 4 columns]"
      ]
     },
     "execution_count": 9,
     "metadata": {},
     "output_type": "execute_result"
    }
   ],
   "source": [
    "# Prepare the encoding\n",
    "category_table = pd.DataFrame(has_relations,\n",
    "                              columns=[\"Has Apprentice Relation\"]).join(pd.DataFrame(has_female, columns=[\"Has Female in Contract\"]))\n",
    "venezia_encoding = clnt.hotEncode(df, df[\"Apprentice Province\"], operation=\"max\")[[\"Venezia\"]]\n",
    "venezia_encoding.columns = [\"From Venezia\"]\n",
    "category_table = category_table.join(venezia_encoding, how=\"left\").copy()\n",
    "\n",
    "# Create categories\n",
    "category_table[\"Category\"] = (category_table[\"Has Apprentice Relation\"] +\n",
    "                              category_table[\"Has Female in Contract\"] * 2 +\n",
    "                              category_table[\"From Venezia\"] * 4)\n",
    "category_table"
   ]
  },
  {
   "cell_type": "code",
   "execution_count": 10,
   "metadata": {},
   "outputs": [],
   "source": [
    "# Save\n",
    "clnt.savePickle(category_table, \"../data/pickles/generated_categories_appRel_femCon_fromVen.pkl\")"
   ]
  }
 ],
 "metadata": {
  "kernelspec": {
   "display_name": "Python 3",
   "language": "python",
   "name": "python3"
  },
  "language_info": {
   "codemirror_mode": {
    "name": "ipython",
    "version": 3
   },
   "file_extension": ".py",
   "mimetype": "text/x-python",
   "name": "python",
   "nbconvert_exporter": "python",
   "pygments_lexer": "ipython3",
   "version": "3.8.2"
  },
  "toc": {
   "base_numbering": 1,
   "nav_menu": {},
   "number_sections": true,
   "sideBar": true,
   "skip_h1_title": false,
   "title_cell": "Table of Contents",
   "title_sidebar": "Contents",
   "toc_cell": false,
   "toc_position": {},
   "toc_section_display": true,
   "toc_window_display": true
  },
  "varInspector": {
   "cols": {
    "lenName": 16,
    "lenType": 16,
    "lenVar": 40
   },
   "kernels_config": {
    "python": {
     "delete_cmd_postfix": "",
     "delete_cmd_prefix": "del ",
     "library": "var_list.py",
     "varRefreshCmd": "print(var_dic_list())"
    },
    "r": {
     "delete_cmd_postfix": ") ",
     "delete_cmd_prefix": "rm(",
     "library": "var_list.r",
     "varRefreshCmd": "cat(var_dic_list()) "
    }
   },
   "types_to_exclude": [
    "module",
    "function",
    "builtin_function_or_method",
    "instance",
    "_Feature"
   ],
   "window_display": false
  }
 },
 "nbformat": 4,
 "nbformat_minor": 4
}
