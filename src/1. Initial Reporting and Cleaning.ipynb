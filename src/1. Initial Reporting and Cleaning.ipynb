{
 "cells": [
  {
   "cell_type": "code",
   "execution_count": 3,
   "metadata": {},
   "outputs": [],
   "source": [
    "import geopandas as gpd\n",
    "import matplotlib.pyplot as plt\n",
    "import pandas as pd\n",
    "from pathlib import Path\n",
    "import shapely as shp\n",
    "from tqdm import tqdm\n",
    "\n",
    "import myprofiler as mp\n",
    "import cleantools as clnt"
   ]
  },
  {
   "cell_type": "markdown",
   "metadata": {},
   "source": [
    "# Initial Reporting #"
   ]
  },
  {
   "cell_type": "markdown",
   "metadata": {},
   "source": [
    "In this section, I will do an initial reporting using *pandas-profiling* tool without any processing on the data. These reports will give basic insight in each section of the relational data set."
   ]
  },
  {
   "cell_type": "code",
   "execution_count": null,
   "metadata": {},
   "outputs": [],
   "source": [
    "# We define files to look at as dictionary\n",
    "files = {\n",
    "    \"locations\": \"../data/locations_20200520_143742.xlsx\",\n",
    "    \"persons\": \"../data/persons_20200520_143122.xlsx\",\n",
    "    \"personMentions\": \"../data/person_mentions_20200520_143017.xlsx\",\n",
    "    \"personRelationships\": \"../data/person_relationships_20200520_143219.xlsx\",\n",
    "    \"professions\": \"../data/professions_20200520_143812.xlsx\",\n",
    "    \"categories\": \"../data/profession_categories_20200520_143818.xlsx\",\n",
    "}\n",
    "\n",
    "# And in the contracts file, there are five sheets to extract\n",
    "contracts_sheets = [\n",
    "    \"Contracts\",\n",
    "    \"Person Mentions\",\n",
    "    \"Hosting Conditions\",\n",
    "    \"Financial Conditions\",\n",
    "    \"Events\",\n",
    "]"
   ]
  },
  {
   "cell_type": "code",
   "execution_count": null,
   "metadata": {},
   "outputs": [],
   "source": [
    "print(\"Extracting sheets from contracts...\")\n",
    "all_sheets = mp.readFromXlsx(\n",
    "    \"../data/contracts_20200520_142649.xlsx\", contracts_sheets\n",
    ")\n",
    "\n",
    "print(\"Extracting Rest of the xlsx documents...\")\n",
    "for name, file in tqdm(files.items()):\n",
    "    all_sheets[name] = mp.readFromXlsx(file)\n",
    "\n",
    "print(\"Reporting each contracts sheet...\")\n",
    "for name, df in tqdm(all_sheets.items()):\n",
    "    mp.getReport(df, \"_\".join(name.split()))"
   ]
  },
  {
   "cell_type": "markdown",
   "metadata": {},
   "source": [
    "Finally, we save the *all_sheets* variable in a pickle, for easy access."
   ]
  },
  {
   "cell_type": "code",
   "execution_count": null,
   "metadata": {},
   "outputs": [],
   "source": [
    "clnt.savePickle(all_sheets, \"../data/pickles/table_of_all.pkl\")"
   ]
  },
  {
   "cell_type": "markdown",
   "metadata": {},
   "source": [
    "# Cleaning the Data #"
   ]
  },
  {
   "cell_type": "code",
   "execution_count": 9,
   "metadata": {},
   "outputs": [],
   "source": [
    "# Main data frame dictionary\n",
    "all_sheets = clnt.loadPickle(\"../data/pickles/all_sheets.pkl\")"
   ]
  },
  {
   "cell_type": "markdown",
   "metadata": {},
   "source": [
    "Here, I will prepare the data for further usage. I first take a look at the *Duration* data in the *Events* sheet. There are three columns representing day, month, and year, which can be merged into one column in day counts."
   ]
  },
  {
   "cell_type": "code",
   "execution_count": null,
   "metadata": {},
   "outputs": [],
   "source": [
    "# Merging different duration data into one numeric column\n",
    "events = all_sheets[\"Events\"].copy()\n",
    "events[\"Duration - Merged\"] = (\n",
    "    events[\"Duration - Years\"] * 365\n",
    "    + events[\"Duration - Months\"] * 30\n",
    "    + events[\"Duration - Days\"]\n",
    ")\n",
    "events.loc[events[\"Start Date\"].astype(str).apply(lambda x:len(x.split(\"-\"))) < 3, \"Start Date\"] = \"0000-00-00\"\n",
    "clnt.savePickle(events, \"../data/pickles/clean_events.pkl\")"
   ]
  },
  {
   "cell_type": "markdown",
   "metadata": {},
   "source": [
    "Secondly, I explore the ages of apprentices, after cleaning up the string formatted entries."
   ]
  },
  {
   "cell_type": "code",
   "execution_count": 5,
   "metadata": {},
   "outputs": [
    {
     "data": {
      "text/plain": [
       "0         18.0\n",
       "1          NaN\n",
       "2         10.0\n",
       "3          NaN\n",
       "4          NaN\n",
       "          ... \n",
       "156128     NaN\n",
       "156129     NaN\n",
       "156130     NaN\n",
       "156131     NaN\n",
       "156132     NaN\n",
       "Name: Age, Length: 156133, dtype: float64"
      ]
     },
     "execution_count": 5,
     "metadata": {},
     "output_type": "execute_result"
    }
   ],
   "source": [
    "# Load data frame\n",
    "person_mentions = all_sheets[\"Person Mentions\"].copy()\n",
    "\n",
    "# Eliminate non int\n",
    "person_mentions[\"Age - Standard Form\"] = pd.to_numeric(person_mentions[\"Age\"], errors=\"coerce\")\n",
    "\n",
    "# Fix typo\n",
    "person_mentions[\"Professions - Standard Form\"] = person_mentions[\n",
    "    \"Professions - Standard Forms\"\n",
    "].copy()\n",
    "\n",
    "# Eliminate Transcript form columns, and delete amended columns\n",
    "person_mentions = clnt.cleanColumns(\n",
    "    person_mentions, to_go=[\"Professions - Standard Forms\", \"Age\"], eliminate_list=[\"Transcript\"]\n",
    ")\n",
    "\n",
    "# Save the results\n",
    "clnt.savePickle(person_mentions, \"../data/pickles/clean_mentions.pkl\")"
   ]
  },
  {
   "cell_type": "markdown",
   "metadata": {},
   "source": [
    "Now we restructure the professions section of the data, for easier access in future."
   ]
  },
  {
   "cell_type": "code",
   "execution_count": null,
   "metadata": {},
   "outputs": [],
   "source": [
    "# Load dataframes\n",
    "professions = all_sheets[\"professions\"].copy()[[\"Standard Form\", \"Category ID\"]]\n",
    "categories = all_sheets[\"categories\"].copy()[[\"ID\", \"Label\", \"Sectors\", \"Parent Category ID\"]]\n",
    "categories2 = categories.copy()[[\"ID\", \"Sectors\", \"Label\"]]\n",
    "\n",
    "# Fix self referencing with merging with itself and renaming\n",
    "categories_merged = categories.merge(categories2, left_on=\"Parent Category ID\", right_on=\"ID\", how=\"left\")\n",
    "categories_merged[\"Sectors\"] = categories_merged[\"Sectors_x\"].fillna(categories_merged[\"Sectors_y\"])\n",
    "categories_merged[\"Parent Label\"] = categories_merged[\"Label_y\"].fillna(categories_merged[\"Label_x\"])\n",
    "categories_merged = categories_merged[[\"ID_x\", \"Label_x\", \"Sectors\", \"Parent Label\"]].copy()\n",
    "categories_merged.columns = [\"ID\", \"Label\", \"Sector\", \"Parent Label\"]\n",
    "\n",
    "# Reshape sectors to be numeric dummy variables\n",
    "categories_merged[\"Sector\"] = categories_merged[\"Sector\"].apply(lambda x:x.split(\",\"))\n",
    "categories = categories_merged.copy()[[\"ID\", \"Label\", \"Parent Label\"]]\n",
    "categories_merged = categories_merged.explode(\"Sector\")\n",
    "categories_sections = clnt.hotEncode(categories_merged,\n",
    "                                     categories_merged.Sector,\n",
    "                                     group=\"Label\",\n",
    "                                     operation=\"max\")[[\"Label\",\"S/T\",\"T\",\"P\",\"S\"]]\n",
    "categories = categories.merge(categories_sections, on=\"Label\")\n",
    "\n",
    "# Add categories to the main frame, and trim extras\n",
    "professions = professions.merge(categories, left_on=\"Category ID\",\n",
    "                                right_on=\"ID\", how=\"left\")[[\"Standard Form\",\n",
    "                                                            \"Category ID\", \"Label\",\n",
    "                                                            \"Parent Label\", \"S/T\",\n",
    "                                                            \"T\", \"P\", \"S\"]]\n",
    "\n",
    "clnt.savePickle(professions, \"../data/pickles/clean_professions_trimmed.pkl\")"
   ]
  },
  {
   "cell_type": "markdown",
   "metadata": {},
   "source": [
    "Now we convert the date time data into pandas form. The pandas date time data type has a minimum limit, which makes half of our data point not applicable, so we will map each date to 200 years later in the data set."
   ]
  },
  {
   "cell_type": "code",
   "execution_count": 4,
   "metadata": {},
   "outputs": [],
   "source": [
    "def shiftDate(x):\n",
    "    \"\"\"Takes in a date, converts it to 200 years later\"\"\"\n",
    "    alst = str(x).split(\"-\")\n",
    "    if len(alst) == 3:\n",
    "        alst[0] = str(int(alst[0])+200)\n",
    "    return \"-\".join(alst)\n",
    "    "
   ]
  },
  {
   "cell_type": "code",
   "execution_count": 10,
   "metadata": {},
   "outputs": [],
   "source": [
    "# Load dataFrame, and convert values\n",
    "contracts = all_sheets[\"Contracts\"].copy().set_index(\"Contract ID\")\n",
    "contracts[\"Date\"] = pd.to_datetime(contracts[\"Date\"].apply(shiftDate), errors=\"coerce\")\n",
    "\n",
    "# Save the results\n",
    "clnt.savePickle(contracts, \"../data/pickles/clean_contracts.pkl\")"
   ]
  },
  {
   "cell_type": "markdown",
   "metadata": {},
   "source": [
    "Now I convert relations to only apprentice side, to standardize the direction of them."
   ]
  },
  {
   "cell_type": "code",
   "execution_count": 11,
   "metadata": {},
   "outputs": [],
   "source": [
    "def changePers(x, g):\n",
    "    \"\"\"Takes in a relation from person 1 to person 2 and the gender of person 1. Returns the relation\n",
    "    in perspective of person 2\"\"\"\n",
    "    x_temp = x[5:]\n",
    "    if isinstance(x, float) or isinstance(g, float):\n",
    "        return x\n",
    "    for key in to_from.keys():\n",
    "        if key in x_temp and to_from[key].lower() in fixables:\n",
    "            x_temp = x_temp.replace(key, gender_fix[to_from[key]+g])\n",
    "        elif key in x_temp:\n",
    "            x_temp = x_temp.replace(key, to_from[key])\n",
    "            break\n",
    "    return x[:5]+x_temp"
   ]
  },
  {
   "cell_type": "code",
   "execution_count": 12,
   "metadata": {},
   "outputs": [],
   "source": [
    "# Set Constants\n",
    "to_from = {\n",
    "    \"Father\": \"Child\",\n",
    "    \"father\": \"child\",\n",
    "    \"Aunt\": \"NepSmt\",\n",
    "    \"Uncle\": \"NepSmt\",\n",
    "    \"Mother\": \"Child\",\n",
    "    \"mother\": \"child\",\n",
    "    \"Daughter\": \"Parent\",\n",
    "    \"Son\": \"Parent\",\n",
    "    \"daughter\": \"parent\",\n",
    "    \"son\": \"parent\",\n",
    "    \"Widow\": \"Widower\",\n",
    "    \"Widower\": \"Widow\",\n",
    "    \"AdopterOf\": \"AdoptedBy\",\n",
    "    \"Husband\": \"Wife\",\n",
    "    \"Brother\": \"Sibling\",\n",
    "    \"brother\": \"sibling\",\n",
    "    \"Daughter\": \"Sibling\",\n",
    "    \"daughter\": \"sibling\"\n",
    "}\n",
    "\n",
    "gender_fix = {\n",
    "    \"Childgrz:Male\": \"Son\",\n",
    "    \"childgrz:Male\": \"son\",\n",
    "    \"Childgrz:Female\": \"Daughter\",\n",
    "    \"childgrz:Female\": \"daughter\",\n",
    "    \"NepSmtgrz:Male\": \"Nephew\",\n",
    "    \"NepSmtgrz:Female\": \"Niece\",\n",
    "    \"Parentgrz:Male\": \"Father\",\n",
    "    \"parentgrz:Male\": \"father\",\n",
    "    \"Parentgrz:Female\": \"Mother\",\n",
    "    \"parentgrz:Female\": \"mother\",\n",
    "    \"Siblinggrz:Male\": \"Brother\",\n",
    "    \"siblinggrz:Male\": \"brother\",\n",
    "    \"Siblinggrz:Female\": \"Sister\",\n",
    "    \"siblinggrz:Female\": \"sister\",\n",
    "}\n",
    "\n",
    "fixables = [\"child\", \"nepsmt\", \"parent\", \"sibling\"]"
   ]
  },
  {
   "cell_type": "code",
   "execution_count": 13,
   "metadata": {},
   "outputs": [],
   "source": [
    "# Load frames\n",
    "person_relations = all_sheets[\"personRelationships\"]\n",
    "mentions = clnt.loadPickle(\"../data/pickles/clean_mentions.pkl\")\n",
    "\n",
    "# Get relations from apprentice to people\n",
    "person_relations_1 = person_relations.merge(mentions, left_on=\"Person 1 ID\", right_on=\"Person ID\", how=\"left\")\n",
    "person_relations_1 = person_relations_1[person_relations_1[\"Tag\"] == \"grz:Apprentice\"][[\"Person 2 ID\", \"Relationship Type\"]]\n",
    "\n",
    "# Get relations from people to apprentice\n",
    "person_relations_2 = person_relations.merge(mentions[[\"Person ID\", \"Tag\"]], left_on=\"Person 2 ID\", right_on=\"Person ID\", how=\"left\")\n",
    "person_relations_2 = person_relations_2.merge(mentions[[\"Person ID\", \"Gender\"]], left_on=\"Person 1 ID\", right_on=\"Person ID\", how=\"left\")\n",
    "person_relations_2 = person_relations_2[person_relations_2[\"Tag\"] == \"grz:Apprentice\"][[\"Person 1 ID\", \"Relationship Type\", \"Gender\"]]\n",
    "\n",
    "# Convert them to \"from apprentice\" form\n",
    "person_relations_2[\"Relationship Type\"] = person_relations_2.apply(lambda x: changePers(x['Relationship Type'], x['Gender']), axis=1)\n",
    "\n",
    "# Merge both lists\n",
    "person_relations_m = person_relations_1.merge(person_relations_2, left_on=\"Person 2 ID\", right_on=\"Person 1 ID\", how=\"outer\")\n",
    "person_relations_m[\"Relationship Type_x\"] = person_relations_m[\"Relationship Type_x\"].fillna(person_relations_m[\"Relationship Type_y\"])\n",
    "person_relations_m[\"Person 1 ID\"] = person_relations_m[\"Person 1 ID\"].fillna(person_relations_m[\"Person 2 ID\"])\n",
    "\n",
    "# Fix formatting issues\n",
    "person_relations_m = person_relations_m[[\"Person 1 ID\", \"Relationship Type_x\"]]\n",
    "person_relations_m.columns = [\"Person ID\", \"Relationship From Apprentice\"]\n",
    "person_relations_m = person_relations_m.drop_duplicates(\"Person ID\")\n",
    "\n",
    "# Save for further usage\n",
    "clnt.savePickle(person_relations_m, \"../data/pickles/directed_person_relations.pkl\")"
   ]
  },
  {
   "cell_type": "markdown",
   "metadata": {},
   "source": [
    "# Creating a Table with Many Useful Columns #"
   ]
  },
  {
   "cell_type": "markdown",
   "metadata": {},
   "source": [
    "In order to store as much as possible, I will make one main table with contracts as index, and another which can be grouped to contracts, to hold people in the contracts."
   ]
  },
  {
   "cell_type": "markdown",
   "metadata": {},
   "source": [
    "## The Main Table ##"
   ]
  },
  {
   "cell_type": "code",
   "execution_count": null,
   "metadata": {},
   "outputs": [],
   "source": [
    "# Load dataframes\n",
    "# Main data frame dictionary\n",
    "all_sheets = clnt.loadPickle(\"../data/pickles/all_sheets.pkl\")\n",
    "\n",
    "contracts = clnt.loadPickle(\n",
    "    \"../data/pickles/clean_contracts.pkl\"\n",
    ")[[\"Date\"]]\n",
    "\n",
    "events = clnt.loadPickle(\n",
    "    \"../data/pickles/clean_events.pkl\"\n",
    ")[[\"Contract ID\", \"Tag\", \"Duration - Merged\"]]\n",
    "\n",
    "financials = clnt.loadPickle(\n",
    "    \"../data/pickles/clean_Financial.pkl\"\n",
    ")[[\"Contract ID\", \"Tag\", \"Paid by\", \"Paid in Goods\",\n",
    "   \"Periodization\", \"Currency\", \"Total Amount\"]]\n",
    "\n",
    "hosting = all_sheets[\"Hosting Conditions\"][[\"Contract ID\",\n",
    "                                            \"Tag\",\n",
    "                                            \"Paid by\",\n",
    "                                            \"Paid in Goods\"]].copy()\n",
    "locations = all_sheets[\"locations\"][[\"Historical Name\",\n",
    "                                    \"Province\",\n",
    "                                    \"Country\"]].copy()\n",
    "mentions = clnt.loadPickle(\n",
    "    \"../data/pickles/clean_mentions.pkl\"\n",
    ")[[\"Contract ID\", \"Gender\", \"Age - Standard Form\",\n",
    "   \"Geo Origin - Standard Form\", \"Workshop - Site\",\n",
    "   \"Professions - Standard Form\", \"Person ID\", \"Tag\"]]"
   ]
  },
  {
   "cell_type": "code",
   "execution_count": null,
   "metadata": {},
   "outputs": [],
   "source": [
    "# Relabel the contracts\n",
    "contracts.columns = [\"Contract Date\"]\n",
    "\n",
    "# Encode events to numbers, get only  Apprentices\n",
    "events_tags = clnt.hotEncode(events, events.Tag, operation=\"max\")\n",
    "events_tags = events_tags.loc[events_tags[\"grz:Apprenticeship\"] != 0,\n",
    "                              [\"grz:BreachOfContract\", \"grz:Flee\"]]\n",
    "events_tags.columns = [\"Has BoContract\", \"Has Flee\"]\n",
    "\n",
    "# Join them\n",
    "the_table = contracts.join(events_tags, how=\"left\").copy()"
   ]
  },
  {
   "cell_type": "code",
   "execution_count": null,
   "metadata": {},
   "outputs": [],
   "source": [
    "# Financial Tags extracted to encoding\n",
    "financial_tags = clnt.hotEncode(financials, financials.Tag, operation=\"max\")\n",
    "financial_tags = financial_tags[[\"grz:SingleSalary\"]]\n",
    "financial_tags.columns = [\"Has Single Salary\"]\n",
    "the_table = the_table.join(financial_tags, how=\"left\")"
   ]
  },
  {
   "cell_type": "code",
   "execution_count": null,
   "metadata": {},
   "outputs": [],
   "source": [
    "# Financial Paid by extracted\n",
    "financial_paidby = clnt.hotEncode(financials, financials[\"Paid by\"], operation=\"max\")[[\"grz:MasterPayer\"]]\n",
    "financial_paidby.columns = [\"Has Master Paying Salary\"]\n",
    "the_table = the_table.join(financial_paidby, how=\"left\")"
   ]
  },
  {
   "cell_type": "code",
   "execution_count": null,
   "metadata": {},
   "outputs": [],
   "source": [
    "# Financial Periodization\n",
    "financial_periodization = clnt.hotEncode(financials, financials.Periodization, operation=\"max\")[[\"grz:WholePeriod\"]]\n",
    "financial_periodization.columns = [\"Has Whole Period\"]\n",
    "the_table = the_table.join(financial_periodization, how=\"left\")"
   ]
  },
  {
   "cell_type": "code",
   "execution_count": null,
   "metadata": {},
   "outputs": [],
   "source": [
    "# Financial Currency\n",
    "financial_currency = clnt.hotEncode(financials, financials.Currency, operation=\"max\")[[\"grz:Ducati\"]]\n",
    "financial_currency.columns = [\"Has Ducati\"]\n",
    "the_table = the_table.join(financial_currency, how=\"left\")"
   ]
  },
  {
   "cell_type": "code",
   "execution_count": null,
   "metadata": {},
   "outputs": [],
   "source": [
    "# Hosting Apprentice Paid\n",
    "temp = hosting[hosting[\"Paid by\"] == \"grz:MasterPayer\"]\n",
    "master_tag = clnt.hotEncode(temp, temp.Tag, operation=\"max\")\n",
    "master_tag.columns = [\"Master Paid Accom\", \"Master Paid Clothing\", \"Master Paid Gen. Exp.\", \"Master Paid Per. Care\"]\n",
    "the_table = the_table.join(master_tag, how=\"left\")"
   ]
  },
  {
   "cell_type": "code",
   "execution_count": null,
   "metadata": {},
   "outputs": [],
   "source": [
    "# Mentions Details\n",
    "mentions_slice = mentions[mentions[\"Tag\"] == \"grz:Apprentice\"].drop_duplicates(\"Contract ID\")\n",
    "mentions_slice[\"Geo Origin - Standard Form\"] = mentions_slice[\"Geo Origin - Standard Form\"].fillna(\"Venezia\")\n",
    "mentions_slice = mentions_slice.merge(locations, left_on=\"Geo Origin - Standard Form\",\n",
    "                                      right_on=\"Historical Name\", how=\"left\")\n",
    "\n",
    "# Is Italian?\n",
    "mentions_country = clnt.hotEncode(mentions_slice, mentions_slice.Country, operation=\"max\")[[\"Italy\"]].reset_index()\n",
    "mentions_country.columns = [\"Contract ID\", \"From Italy\"]\n",
    "mentions_slice = mentions_slice.merge(mentions_country,\n",
    "                                      on=\"Contract ID\", how=\"left\")"
   ]
  },
  {
   "cell_type": "code",
   "execution_count": null,
   "metadata": {},
   "outputs": [],
   "source": [
    "# Is Venetian?\n",
    "venezia_encoding = clnt.hotEncode(\n",
    "    mentions_slice, mentions_slice[\"Province\"], operation=\"max\"\n",
    ").reset_index()[[\"Contract ID\", \"Venezia\"]]\n",
    "venezia_encoding.columns = [\"Contract ID\",\"From Venezia\"]\n",
    "mentions_slice = mentions_slice.merge(venezia_encoding, on=\"Contract ID\", how=\"left\").copy()"
   ]
  },
  {
   "cell_type": "code",
   "execution_count": null,
   "metadata": {},
   "outputs": [],
   "source": [
    "# Gender hotcoding\n",
    "mentions_gender = clnt.hotEncode(mentions_slice, mentions_slice.Gender, operation=\"max\").reset_index()\n",
    "mentions_slice = mentions_slice.merge(mentions_gender[[\"Contract ID\", \"grz:Male\"]],\n",
    "                                      on=\"Contract ID\", how=\"left\")\n",
    "\n",
    "# Lose unimportant parts\n",
    "mentions_slice = mentions_slice.set_index(\"Contract ID\")\n",
    "mentions_slice = mentions_slice[[\"Age - Standard Form\", \"Geo Origin - Standard Form\",\n",
    "                                 \"Workshop - Site\", \"Professions - Standard Form\", \"Province\",\n",
    "                                 \"Person ID\", \"grz:Male\", \"From Italy\", \"From Venezia\"]]\n",
    "\n",
    "mentions_slice.columns = [\"Apprentice Age\", \"Apprentice Geo Origin\",\n",
    "                          \"Workshop - Site\", \"Apprentice Profession\", \"Apprentice Province\", \n",
    "                          \"Apprentice ID\", \"Apprentice Male\", \"From Italy\", \"From Venezia\"]\n",
    "the_table = the_table.join(mentions_slice, how=\"left\")"
   ]
  },
  {
   "cell_type": "code",
   "execution_count": null,
   "metadata": {},
   "outputs": [],
   "source": [
    "# Adding guandam to apprentices\n",
    "names = clnt.loadPickle(\"../data/pickles/names.pkl\").drop_duplicates(\"Person ID\")[[\"Person ID\", \"Quondam1\"]]\n",
    "the_table = the_table.reset_index().merge(names, left_on=\"Apprentice ID\", right_on=\"Person ID\", how=\"left\")\n",
    "del the_table[\"Person ID\"]"
   ]
  },
  {
   "cell_type": "code",
   "execution_count": null,
   "metadata": {},
   "outputs": [],
   "source": [
    "# Adding profession details\n",
    "professions = clnt.loadPickle(\"../data/pickles/clean_professions_trimmed.pkl\")\n",
    "the_table = the_table.merge(professions, left_on=\"Apprentice Profession\",\n",
    "                            right_on= \"Standard Form\", how=\"left\")"
   ]
  },
  {
   "cell_type": "code",
   "execution_count": null,
   "metadata": {},
   "outputs": [],
   "source": [
    "# Adding further details\n",
    "the_table = the_table.set_index(\"Contract ID\")\n",
    "events_slice = events.loc[events[\"Tag\"] == \"grz:Apprenticeship\",\n",
    "                           [\"Contract ID\",\"Duration - Merged\"]].drop_duplicates(\"Contract ID\").set_index(\"Contract ID\")\n",
    "the_table = the_table.join(events_slice, how=\"left\")\n",
    "\n",
    "financials_slice = financials[[\"Contract ID\", \"Paid in Goods\", \"Total Amount\"]].drop_duplicates(\"Contract ID\").set_index(\"Contract ID\")\n",
    "financials_slice.columns = [\"Paid Salary in Goods\", \"Total Payment Received\"]\n",
    "the_table = the_table.join(financials_slice, how=\"left\")\n",
    "\n",
    "# Formatting and indexing\n",
    "the_table[\"Contract Date\"] = pd.to_datetime(the_table[\"Contract Date\"].apply(shiftDate), errors=\"coerce\")\n",
    "the_table[\"Apprentice Age\"] = pd.to_numeric(the_table[\"Apprentice Age\"], errors=\"coerce\")\n",
    "the_table[\"S\"] = the_table[[\"S/T\", \"S\"]].max(axis=1)\n",
    "the_table[\"T\"] = the_table[[\"S/T\", \"T\"]].max(axis=1)\n",
    "the_table = the_table[['Contract Date', 'Has BoContract', 'Has Flee', 'Has Single Salary',\n",
    "                       'Has Master Paying Salary', 'Has Whole Period', 'Has Ducati',\n",
    "                       'Master Paid Accom', 'Master Paid Clothing', 'Master Paid Gen. Exp.',\n",
    "                       'Master Paid Per. Care', 'Apprentice Age', 'Apprentice Geo Origin',\n",
    "                       'Workshop - Site', 'Apprentice Profession', 'Apprentice Province',\n",
    "                       'Apprentice ID', 'Apprentice Male', 'From Italy', 'From Venezia',\n",
    "                       'Label', 'Parent Label', 'P', 'S', 'T', 'Quondam1',\n",
    "                       'Duration - Merged', 'Paid Salary in Goods', 'Total Payment Received']]"
   ]
  },
  {
   "cell_type": "code",
   "execution_count": null,
   "metadata": {},
   "outputs": [],
   "source": [
    "# Check the status of the profile\n",
    "# profiler = ProfileReport(the_table, title=\"All Necessary Data Profile Report\", minimal = True)\n",
    "# Save the results to a pickle\n",
    "clnt.savePickle(the_table, \"../data/pickles/table_of_all.pkl\")\n",
    "# profiler.to_file(\"../reports/The_Table_Profile_Report.html\")\n",
    "# profiler"
   ]
  },
  {
   "cell_type": "markdown",
   "metadata": {},
   "source": [
    "## Sub-Tables to Store People ##"
   ]
  },
  {
   "cell_type": "code",
   "execution_count": null,
   "metadata": {},
   "outputs": [],
   "source": [
    "# Load the frame\n",
    "mentions = mentions[[\"Contract ID\", \"Gender\", \"Geo Origin - Standard Form\",\n",
    "                     \"Professions - Standard Form\",\"Person ID\", \"Person Name\",\n",
    "                     \"Tag\", \"Mention ID\"]]\n",
    "person_relations_m = clnt.loadPickle(\"../data/pickles/directed_person_relations.pkl\")\n",
    "\n",
    "# Encode the tag column as dummies\n",
    "tag_encoded = clnt.hotEncode(mentions, mentions.Tag, group=\"Mention ID\")\n",
    "tag_encoded.columns = [\"Mention ID\", \"Is Apprentice\", \"Is Guarantor\", \"Is Master\", \"Is Other\"]\n",
    "mentions = mentions.merge(tag_encoded, on=\"Mention ID\", how=\"left\")\n",
    "\n",
    "# Drop na Person ID\n",
    "mentions = mentions[mentions[\"Person ID\"].notna()]\n",
    "\n",
    "# Fuse everything on mentions\n",
    "mentions = mentions.merge(person_relations_m, on=\"Person ID\", how=\"left\")\n",
    "del mentions[\"Tag\"]\n",
    "del mentions[\"Mention ID\"]\n",
    "\n",
    "# Save\n",
    "clnt.savePickle(mentions, \"../data/pickles/sub_tables.pkl\")"
   ]
  },
  {
   "cell_type": "markdown",
   "metadata": {},
   "source": [
    "# Map Data for Graphing #"
   ]
  },
  {
   "cell_type": "markdown",
   "metadata": {},
   "source": [
    "Here I create a shapefile to map italy city by city, as a frame for further usage in geopandas."
   ]
  },
  {
   "cell_type": "markdown",
   "metadata": {},
   "source": [
    "## Italy Map ##"
   ]
  },
  {
   "cell_type": "code",
   "execution_count": 17,
   "metadata": {},
   "outputs": [
    {
     "data": {
      "text/html": [
       "<div>\n",
       "<style scoped>\n",
       "    .dataframe tbody tr th:only-of-type {\n",
       "        vertical-align: middle;\n",
       "    }\n",
       "\n",
       "    .dataframe tbody tr th {\n",
       "        vertical-align: top;\n",
       "    }\n",
       "\n",
       "    .dataframe thead th {\n",
       "        text-align: right;\n",
       "    }\n",
       "</style>\n",
       "<table border=\"1\" class=\"dataframe\">\n",
       "  <thead>\n",
       "    <tr style=\"text-align: right;\">\n",
       "      <th></th>\n",
       "      <th>COD_REG</th>\n",
       "      <th>COD_PRO</th>\n",
       "      <th>NOME_PRO</th>\n",
       "      <th>SHAPE_Leng</th>\n",
       "      <th>SHAPE_Area</th>\n",
       "      <th>geometry</th>\n",
       "    </tr>\n",
       "  </thead>\n",
       "  <tbody>\n",
       "    <tr>\n",
       "      <th>0</th>\n",
       "      <td>4</td>\n",
       "      <td>21</td>\n",
       "      <td>Bolzano/Bozen</td>\n",
       "      <td>620108.330196</td>\n",
       "      <td>7.399211e+09</td>\n",
       "      <td>POLYGON ((743386.080 5219948.900, 743472.190 5...</td>\n",
       "    </tr>\n",
       "    <tr>\n",
       "      <th>1</th>\n",
       "      <td>4</td>\n",
       "      <td>22</td>\n",
       "      <td>Trento</td>\n",
       "      <td>594881.754084</td>\n",
       "      <td>6.208808e+09</td>\n",
       "      <td>POLYGON ((716761.025 5154130.954, 716114.040 5...</td>\n",
       "    </tr>\n",
       "    <tr>\n",
       "      <th>0</th>\n",
       "      <td>18</td>\n",
       "      <td>101</td>\n",
       "      <td>Crotone</td>\n",
       "      <td>255373.698192</td>\n",
       "      <td>1.734220e+09</td>\n",
       "      <td>POLYGON ((1193390.541 4396845.642, 1193446.908...</td>\n",
       "    </tr>\n",
       "    <tr>\n",
       "      <th>1</th>\n",
       "      <td>18</td>\n",
       "      <td>102</td>\n",
       "      <td>Vibo Valentia</td>\n",
       "      <td>202276.466347</td>\n",
       "      <td>1.148200e+09</td>\n",
       "      <td>POLYGON ((1100602.110 4304206.521, 1100777.620...</td>\n",
       "    </tr>\n",
       "    <tr>\n",
       "      <th>2</th>\n",
       "      <td>18</td>\n",
       "      <td>78</td>\n",
       "      <td>Cosenza</td>\n",
       "      <td>525877.852930</td>\n",
       "      <td>6.707462e+09</td>\n",
       "      <td>MULTIPOLYGON (((1084873.044 4414392.388, 10848...</td>\n",
       "    </tr>\n",
       "    <tr>\n",
       "      <th>...</th>\n",
       "      <td>...</td>\n",
       "      <td>...</td>\n",
       "      <td>...</td>\n",
       "      <td>...</td>\n",
       "      <td>...</td>\n",
       "      <td>...</td>\n",
       "    </tr>\n",
       "    <tr>\n",
       "      <th>0</th>\n",
       "      <td>11</td>\n",
       "      <td>42</td>\n",
       "      <td>Ancona</td>\n",
       "      <td>274879.906176</td>\n",
       "      <td>1.961606e+09</td>\n",
       "      <td>MULTIPOLYGON (((863162.283 4840139.829, 863195...</td>\n",
       "    </tr>\n",
       "    <tr>\n",
       "      <th>1</th>\n",
       "      <td>11</td>\n",
       "      <td>43</td>\n",
       "      <td>Macerata</td>\n",
       "      <td>320667.527842</td>\n",
       "      <td>2.781063e+09</td>\n",
       "      <td>MULTIPOLYGON (((883619.250 4806680.750, 883626...</td>\n",
       "    </tr>\n",
       "    <tr>\n",
       "      <th>2</th>\n",
       "      <td>11</td>\n",
       "      <td>44</td>\n",
       "      <td>Ascoli Piceno</td>\n",
       "      <td>204570.488201</td>\n",
       "      <td>1.229406e+09</td>\n",
       "      <td>POLYGON ((889817.750 4780031.500, 890702.000 4...</td>\n",
       "    </tr>\n",
       "    <tr>\n",
       "      <th>3</th>\n",
       "      <td>11</td>\n",
       "      <td>41</td>\n",
       "      <td>Pesaro E Urbino</td>\n",
       "      <td>330060.608373</td>\n",
       "      <td>2.567201e+09</td>\n",
       "      <td>MULTIPOLYGON (((802389.500 4875193.750, 802452...</td>\n",
       "    </tr>\n",
       "    <tr>\n",
       "      <th>4</th>\n",
       "      <td>11</td>\n",
       "      <td>109</td>\n",
       "      <td>Fermo</td>\n",
       "      <td>198645.104781</td>\n",
       "      <td>8.619016e+08</td>\n",
       "      <td>POLYGON ((884846.250 4804603.250, 885597.250 4...</td>\n",
       "    </tr>\n",
       "  </tbody>\n",
       "</table>\n",
       "<p>110 rows × 6 columns</p>\n",
       "</div>"
      ],
      "text/plain": [
       "    COD_REG  COD_PRO         NOME_PRO     SHAPE_Leng    SHAPE_Area  \\\n",
       "0         4       21    Bolzano/Bozen  620108.330196  7.399211e+09   \n",
       "1         4       22           Trento  594881.754084  6.208808e+09   \n",
       "0        18      101          Crotone  255373.698192  1.734220e+09   \n",
       "1        18      102    Vibo Valentia  202276.466347  1.148200e+09   \n",
       "2        18       78          Cosenza  525877.852930  6.707462e+09   \n",
       "..      ...      ...              ...            ...           ...   \n",
       "0        11       42           Ancona  274879.906176  1.961606e+09   \n",
       "1        11       43         Macerata  320667.527842  2.781063e+09   \n",
       "2        11       44    Ascoli Piceno  204570.488201  1.229406e+09   \n",
       "3        11       41  Pesaro E Urbino  330060.608373  2.567201e+09   \n",
       "4        11      109            Fermo  198645.104781  8.619016e+08   \n",
       "\n",
       "                                             geometry  \n",
       "0   POLYGON ((743386.080 5219948.900, 743472.190 5...  \n",
       "1   POLYGON ((716761.025 5154130.954, 716114.040 5...  \n",
       "0   POLYGON ((1193390.541 4396845.642, 1193446.908...  \n",
       "1   POLYGON ((1100602.110 4304206.521, 1100777.620...  \n",
       "2   MULTIPOLYGON (((1084873.044 4414392.388, 10848...  \n",
       "..                                                ...  \n",
       "0   MULTIPOLYGON (((863162.283 4840139.829, 863195...  \n",
       "1   MULTIPOLYGON (((883619.250 4806680.750, 883626...  \n",
       "2   POLYGON ((889817.750 4780031.500, 890702.000 4...  \n",
       "3   MULTIPOLYGON (((802389.500 4875193.750, 802452...  \n",
       "4   POLYGON ((884846.250 4804603.250, 885597.250 4...  \n",
       "\n",
       "[110 rows x 6 columns]"
      ]
     },
     "execution_count": 17,
     "metadata": {},
     "output_type": "execute_result"
    }
   ],
   "source": [
    "# Here I use data from the dataset:\n",
    "# https://github.com/sramazzina/italian-maps-shapefiles\n",
    "# Merge the given individual provinces to a full map\n",
    "folder = Path(\"../../italian-maps-shapefiles/all_together/\")\n",
    "shapefiles = folder.glob(\"*.shp\")\n",
    "gdf = pd.concat([\n",
    "    gpd.read_file(shp)\n",
    "    for shp in shapefiles\n",
    "]).pipe(gpd.GeoDataFrame)\n",
    "\n",
    "# Reformat caps\n",
    "gdf[\"NOME_PRO\"] = gdf[\"NOME_PRO\"].apply(lambda x:x.title())\n",
    "gdf"
   ]
  },
  {
   "cell_type": "code",
   "execution_count": 18,
   "metadata": {},
   "outputs": [],
   "source": [
    "# Save file\n",
    "gdf.to_file('../data/italy_city_map.shp')"
   ]
  },
  {
   "cell_type": "markdown",
   "metadata": {},
   "source": [
    "## Europe Map ##"
   ]
  },
  {
   "cell_type": "code",
   "execution_count": 4,
   "metadata": {},
   "outputs": [
    {
     "data": {
      "image/png": "[encoded data removed]",
      "text/plain": [
       "<Figure size 576x396 with 1 Axes>"
      ]
     },
     "metadata": {},
     "output_type": "display_data"
    }
   ],
   "source": [
    "world = gpd.read_file(\"../../CNTR_RG_10M_2020_4326.shp/CNTR_RG_10M_2020_4326.shp\")\n",
    "world.plot()\n",
    "plt.show()"
   ]
  },
  {
   "cell_type": "code",
   "execution_count": 5,
   "metadata": {},
   "outputs": [
    {
     "data": {
      "text/html": [
       "<div>\n",
       "<style scoped>\n",
       "    .dataframe tbody tr th:only-of-type {\n",
       "        vertical-align: middle;\n",
       "    }\n",
       "\n",
       "    .dataframe tbody tr th {\n",
       "        vertical-align: top;\n",
       "    }\n",
       "\n",
       "    .dataframe thead th {\n",
       "        text-align: right;\n",
       "    }\n",
       "</style>\n",
       "<table border=\"1\" class=\"dataframe\">\n",
       "  <thead>\n",
       "    <tr style=\"text-align: right;\">\n",
       "      <th></th>\n",
       "      <th>CNTR_ID</th>\n",
       "      <th>CNTR_NAME</th>\n",
       "      <th>NAME_ENGL</th>\n",
       "      <th>ISO3_CODE</th>\n",
       "      <th>FID</th>\n",
       "      <th>geometry</th>\n",
       "    </tr>\n",
       "  </thead>\n",
       "  <tbody>\n",
       "    <tr>\n",
       "      <th>0</th>\n",
       "      <td>AD</td>\n",
       "      <td>Andorra</td>\n",
       "      <td>Andorra</td>\n",
       "      <td>AND</td>\n",
       "      <td>AD</td>\n",
       "      <td>POLYGON ((1.72580 42.50440, 1.60702 42.46145, ...</td>\n",
       "    </tr>\n",
       "    <tr>\n",
       "      <th>1</th>\n",
       "      <td>AE</td>\n",
       "      <td>الإمارات العربية المتحدة</td>\n",
       "      <td>United Arab Emirates</td>\n",
       "      <td>ARE</td>\n",
       "      <td>AE</td>\n",
       "      <td>MULTIPOLYGON (((56.26584 25.62472, 56.34903 25...</td>\n",
       "    </tr>\n",
       "    <tr>\n",
       "      <th>2</th>\n",
       "      <td>AF</td>\n",
       "      <td>افغانستان-افغانستان</td>\n",
       "      <td>Afghanistan</td>\n",
       "      <td>AFG</td>\n",
       "      <td>AF</td>\n",
       "      <td>MULTIPOLYGON (((74.88986 37.23409, 74.81968 37...</td>\n",
       "    </tr>\n",
       "    <tr>\n",
       "      <th>3</th>\n",
       "      <td>AG</td>\n",
       "      <td>Antigua and Barbuda</td>\n",
       "      <td>Antigua and Barbuda</td>\n",
       "      <td>ATG</td>\n",
       "      <td>AG</td>\n",
       "      <td>MULTIPOLYGON (((-61.65852 17.07080, -61.69187 ...</td>\n",
       "    </tr>\n",
       "    <tr>\n",
       "      <th>4</th>\n",
       "      <td>AI</td>\n",
       "      <td>Anguilla</td>\n",
       "      <td>Anguilla</td>\n",
       "      <td>AIA</td>\n",
       "      <td>AI</td>\n",
       "      <td>POLYGON ((-63.11120 18.18342, -63.07020 18.234...</td>\n",
       "    </tr>\n",
       "    <tr>\n",
       "      <th>...</th>\n",
       "      <td>...</td>\n",
       "      <td>...</td>\n",
       "      <td>...</td>\n",
       "      <td>...</td>\n",
       "      <td>...</td>\n",
       "      <td>...</td>\n",
       "    </tr>\n",
       "    <tr>\n",
       "      <th>252</th>\n",
       "      <td>XC</td>\n",
       "      <td>Aksai Chin (Disputed Territory)</td>\n",
       "      <td>Aksai Chin</td>\n",
       "      <td>XC</td>\n",
       "      <td>XC</td>\n",
       "      <td>POLYGON ((78.94793 33.37869, 78.83903 33.43723...</td>\n",
       "    </tr>\n",
       "    <tr>\n",
       "      <th>253</th>\n",
       "      <td>XD</td>\n",
       "      <td>Arunashal Pradesh (Disputed Territory)</td>\n",
       "      <td>Arunachal Pradesh</td>\n",
       "      <td>XD</td>\n",
       "      <td>XD</td>\n",
       "      <td>POLYGON ((97.34711 28.20807, 97.31516 28.07765...</td>\n",
       "    </tr>\n",
       "    <tr>\n",
       "      <th>254</th>\n",
       "      <td>XE</td>\n",
       "      <td>China/India (Disputed Territory)</td>\n",
       "      <td>China/India</td>\n",
       "      <td>XE</td>\n",
       "      <td>XE</td>\n",
       "      <td>MULTIPOLYGON (((79.25368 32.52334, 79.29862 32...</td>\n",
       "    </tr>\n",
       "    <tr>\n",
       "      <th>255</th>\n",
       "      <td>XF</td>\n",
       "      <td>Hala'Ib Triangle (Disputed Territory)</td>\n",
       "      <td>Hala'Ib Triangle</td>\n",
       "      <td>XF</td>\n",
       "      <td>XF</td>\n",
       "      <td>POLYGON ((36.88250 22.00513, 34.08653 22.00251...</td>\n",
       "    </tr>\n",
       "    <tr>\n",
       "      <th>256</th>\n",
       "      <td>XG</td>\n",
       "      <td>Ilemi Triangle (Disputed Territory)</td>\n",
       "      <td>Ilemi Triangle</td>\n",
       "      <td>XG</td>\n",
       "      <td>XG</td>\n",
       "      <td>POLYGON ((35.50877 4.62000, 34.37846 4.62000, ...</td>\n",
       "    </tr>\n",
       "  </tbody>\n",
       "</table>\n",
       "<p>257 rows × 6 columns</p>\n",
       "</div>"
      ],
      "text/plain": [
       "    CNTR_ID                               CNTR_NAME             NAME_ENGL  \\\n",
       "0        AD                                 Andorra               Andorra   \n",
       "1        AE                الإمارات العربية المتحدة  United Arab Emirates   \n",
       "2        AF                     افغانستان-افغانستان           Afghanistan   \n",
       "3        AG                     Antigua and Barbuda   Antigua and Barbuda   \n",
       "4        AI                                Anguilla              Anguilla   \n",
       "..      ...                                     ...                   ...   \n",
       "252      XC         Aksai Chin (Disputed Territory)            Aksai Chin   \n",
       "253      XD  Arunashal Pradesh (Disputed Territory)     Arunachal Pradesh   \n",
       "254      XE        China/India (Disputed Territory)           China/India   \n",
       "255      XF   Hala'Ib Triangle (Disputed Territory)      Hala'Ib Triangle   \n",
       "256      XG     Ilemi Triangle (Disputed Territory)        Ilemi Triangle   \n",
       "\n",
       "    ISO3_CODE FID                                           geometry  \n",
       "0         AND  AD  POLYGON ((1.72580 42.50440, 1.60702 42.46145, ...  \n",
       "1         ARE  AE  MULTIPOLYGON (((56.26584 25.62472, 56.34903 25...  \n",
       "2         AFG  AF  MULTIPOLYGON (((74.88986 37.23409, 74.81968 37...  \n",
       "3         ATG  AG  MULTIPOLYGON (((-61.65852 17.07080, -61.69187 ...  \n",
       "4         AIA  AI  POLYGON ((-63.11120 18.18342, -63.07020 18.234...  \n",
       "..        ...  ..                                                ...  \n",
       "252        XC  XC  POLYGON ((78.94793 33.37869, 78.83903 33.43723...  \n",
       "253        XD  XD  POLYGON ((97.34711 28.20807, 97.31516 28.07765...  \n",
       "254        XE  XE  MULTIPOLYGON (((79.25368 32.52334, 79.29862 32...  \n",
       "255        XF  XF  POLYGON ((36.88250 22.00513, 34.08653 22.00251...  \n",
       "256        XG  XG  POLYGON ((35.50877 4.62000, 34.37846 4.62000, ...  \n",
       "\n",
       "[257 rows x 6 columns]"
      ]
     },
     "execution_count": 5,
     "metadata": {},
     "output_type": "execute_result"
    }
   ],
   "source": [
    "world"
   ]
  },
  {
   "cell_type": "code",
   "execution_count": 6,
   "metadata": {},
   "outputs": [],
   "source": [
    "countries_in_eu = \"\"\"\n",
    "    A\n",
    "    Albania\n",
    "    Andorra\n",
    "    Armenia\n",
    "    Austria\n",
    "    Azerbaijan\n",
    "    B\n",
    "    Belarus\n",
    "    Belgium\n",
    "    Bosnia and Herzegovina\n",
    "    Bulgaria\n",
    "    C\n",
    "    Croatia\n",
    "    Cyprus\n",
    "    Czechia\n",
    "    D\n",
    "    Denmark\n",
    "    E\n",
    "    Estonia\n",
    "    F\n",
    "    Finland\n",
    "    France\n",
    "    G\n",
    "    Georgia\n",
    "    Germany\n",
    "    Greece\n",
    "\n",
    "    H\n",
    "    Hungary\n",
    "    I\n",
    "    Iceland\n",
    "    Ireland\n",
    "    Italy\n",
    "    K\n",
    "    Kazakhstan\n",
    "    Kosovo\n",
    "    L\n",
    "    Latvia\n",
    "    Liechtenstein\n",
    "    Lithuania\n",
    "    Luxembourg\n",
    "    M\n",
    "    Malta\n",
    "    Moldova\n",
    "    Monaco\n",
    "    Montenegro\n",
    "    N\n",
    "    Netherlands\n",
    "    North Macedonia (formerly Macedonia)\n",
    "    Norway\n",
    "\n",
    "    P\n",
    "    Poland\n",
    "    Portugal\n",
    "    R\n",
    "    Romania\n",
    "    Russia\n",
    "    S\n",
    "    San Marino\n",
    "    Serbia\n",
    "    Slovakia\n",
    "    Slovenia\n",
    "    Spain\n",
    "    Sweden\n",
    "    Switzerland\n",
    "    T\n",
    "    Turkey\n",
    "    U\n",
    "    Ukraine\n",
    "    United Kingdom (UK)\n",
    "    V\n",
    "    Vatican City (Holy See)\n",
    "\n",
    "\"\"\"\n",
    "countries_in_eu = [a.strip() for a in countries_in_eu.split(\"\\n\") if len(a.strip())>1]"
   ]
  },
  {
   "cell_type": "code",
   "execution_count": 7,
   "metadata": {},
   "outputs": [
    {
     "data": {
      "image/png": "[encoded data removed]",
      "text/plain": [
       "<Figure size 576x396 with 1 Axes>"
      ]
     },
     "metadata": {},
     "output_type": "display_data"
    }
   ],
   "source": [
    "europe = world[world['NAME_ENGL'].apply(lambda x:x in countries_in_eu)]\n",
    "europe.plot();plt.show()\n",
    "# ax = europe.plot()\n",
    "# europe.apply(lambda x: ax.annotate(s=x.NAME_ENGL, xy=x.geometry.centroid.coords[0], ha='center'),axis=1);"
   ]
  },
  {
   "cell_type": "code",
   "execution_count": 8,
   "metadata": {},
   "outputs": [
    {
     "name": "stderr",
     "output_type": "stream",
     "text": [
      "/home/baran/Work/2019_2020/Internship/Work/env/lib/python3.8/site-packages/geopandas/base.py:48: UserWarning: GeoSeries crs mismatch: epsg:4326 and None\n",
      "  warn(\"GeoSeries crs mismatch: {0} and {1}\".format(this.crs, other.crs))\n"
     ]
    }
   ],
   "source": [
    "# Box scale\n",
    "xmin = -12.\n",
    "xmax = 50.\n",
    "ymin = 33.\n",
    "ymax = 70.\n",
    "\n",
    "# Coordinates of the box\n",
    "coords = ((xmin, ymin),(xmin, ymax),(xmax, ymin),(xmax, ymax))\n",
    "box = shp.geometry.polygon.Polygon(coords)\n",
    "bounding_box = box.envelope\n",
    "\n",
    "# Dataframe of box\n",
    "df = gpd.GeoDataFrame({'geometry': [bounding_box]})\n",
    "\n",
    "# Intersection\n",
    "europe_trimmed = gpd.overlay(europe, df)"
   ]
  },
  {
   "cell_type": "code",
   "execution_count": 9,
   "metadata": {},
   "outputs": [
    {
     "data": {
      "image/png": "[encoded data removed]",
      "text/plain": [
       "<Figure size 576x396 with 1 Axes>"
      ]
     },
     "metadata": {},
     "output_type": "display_data"
    }
   ],
   "source": [
    "europe_trimmed.plot(); plt.show()"
   ]
  },
  {
   "cell_type": "code",
   "execution_count": 11,
   "metadata": {},
   "outputs": [],
   "source": [
    "europe_trimmed.to_file(\"../data/europe_map.shp\")"
   ]
  },
  {
   "cell_type": "code",
   "execution_count": null,
   "metadata": {},
   "outputs": [],
   "source": []
  }
 ],
 "metadata": {
  "kernelspec": {
   "display_name": "Python 3",
   "language": "python",
   "name": "python3"
  },
  "language_info": {
   "codemirror_mode": {
    "name": "ipython",
    "version": 3
   },
   "file_extension": ".py",
   "mimetype": "text/x-python",
   "name": "python",
   "nbconvert_exporter": "python",
   "pygments_lexer": "ipython3",
   "version": "3.8.2"
  },
  "toc": {
   "base_numbering": 1,
   "nav_menu": {},
   "number_sections": true,
   "sideBar": true,
   "skip_h1_title": false,
   "title_cell": "Table of Contents",
   "title_sidebar": "Contents",
   "toc_cell": false,
   "toc_position": {},
   "toc_section_display": true,
   "toc_window_display": true
  },
  "varInspector": {
   "cols": {
    "lenName": 16,
    "lenType": 16,
    "lenVar": 40
   },
   "kernels_config": {
    "python": {
     "delete_cmd_postfix": "",
     "delete_cmd_prefix": "del ",
     "library": "var_list.py",
     "varRefreshCmd": "print(var_dic_list())"
    },
    "r": {
     "delete_cmd_postfix": ") ",
     "delete_cmd_prefix": "rm(",
     "library": "var_list.r",
     "varRefreshCmd": "cat(var_dic_list()) "
    }
   },
   "types_to_exclude": [
    "module",
    "function",
    "builtin_function_or_method",
    "instance",
    "_Feature"
   ],
   "window_display": false
  }
 },
 "nbformat": 4,
 "nbformat_minor": 4
}
