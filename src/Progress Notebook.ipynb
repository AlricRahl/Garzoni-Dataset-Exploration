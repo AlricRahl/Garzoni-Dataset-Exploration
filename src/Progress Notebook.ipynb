{
 "cells": [
  {
   "cell_type": "code",
   "execution_count": 1,
   "metadata": {},
   "outputs": [],
   "source": [
    "from importlib import reload\n",
    "import matplotlib.pyplot as plt\n",
    "from math import nan\n",
    "import numpy as np\n",
    "import pandas as pd\n",
    "import pickle as pkl\n",
    "from tqdm import tqdm\n",
    "from IPython import get_ipython\n",
    "\n",
    "import myprofiler as mp\n",
    "import cleantools as clnt"
   ]
  },
  {
   "cell_type": "markdown",
   "metadata": {
    "heading_collapsed": true
   },
   "source": [
    "# Introducion #\n",
    "\n",
    "This file is for exploration, cleaning, and saving of data."
   ]
  },
  {
   "cell_type": "code",
   "execution_count": 2,
   "metadata": {
    "hidden": true
   },
   "outputs": [],
   "source": [
    "def reporting(all_sheets):\n",
    "    \"\"\"This section takes a report of everything\n",
    "\n",
    "    \"\"\"\n",
    "    print(\"Reporting each contracts sheet...\")\n",
    "    for name, df in tqdm(all_sheets.items()):\n",
    "        mp.getReport(df, \"_\".join(name.split()))"
   ]
  },
  {
   "cell_type": "markdown",
   "metadata": {
    "hidden": true
   },
   "source": [
    "Below are the basic variables defined to aid our process."
   ]
  },
  {
   "cell_type": "code",
   "execution_count": 3,
   "metadata": {
    "hidden": true
   },
   "outputs": [],
   "source": [
    "files = {\n",
    "    \"locations\": \"../data/locations_20200520_143742.xlsx\",\n",
    "    \"persons\": \"../data/persons_20200520_143122.xlsx\",\n",
    "    \"personMentions\": \"../data/person_mentions_20200520_143017.xlsx\",\n",
    "    \"personRelationships\": \"../data/person_relationships_20200520_143219.xlsx\",\n",
    "    \"professions\": \"../data/professions_20200520_143812.xlsx\",\n",
    "    \"categories\": \"../data/profession_categories_20200520_143818.xlsx\",\n",
    "}\n",
    "unrelated_colums = {\n",
    "    \"Financial Conditions\": None,\n",
    "    \"personMentions\": None,\n",
    "    \"persons\": None,\n",
    "    \"personRelationships\": None,\n",
    "    \"categories\": None,\n",
    "    \"contracts\": None,\n",
    "    \"Names\": None,\n",
    "    \"Hosting Conditions\": [\"Type of Clothing\"],\n",
    "    \"Locations\": [\"GeoNames ID\"],\n",
    "    \"Events\": [\n",
    "        \"End Date\",\n",
    "        \"Duration - Years\",\n",
    "        \"Duration - Months\",\n",
    "        \"Duration - Days\",\n",
    "    ],\n",
    "}\n",
    "contracts_sheets = [\n",
    "    \"Contracts\",\n",
    "    \"Person Mentions\",\n",
    "    \"Hosting Conditions\",\n",
    "    \"Financial Conditions\",\n",
    "    \"Events\",\n",
    "]"
   ]
  },
  {
   "cell_type": "markdown",
   "metadata": {
    "hidden": true
   },
   "source": [
    "Here is the report making and information extracting section."
   ]
  },
  {
   "cell_type": "code",
   "execution_count": null,
   "metadata": {
    "hidden": true
   },
   "outputs": [],
   "source": [
    "print(\"Extracting sheets from contracts...\")\n",
    "all_sheets = mp.readFromXlsx(\n",
    "    \"../data/contracts_20200520_142649.xlsx\", contracts_sheets\n",
    ")\n",
    "\n",
    "print(\"Extracting Rest of the xlsx documents...\")\n",
    "for name, file in tqdm(files.items()):\n",
    "    all_sheets[name] = mp.readFromXlsx(file)\n",
    "\n",
    "print(\"Reporting all sheets...\")\n",
    "reporting(all_sheets)"
   ]
  },
  {
   "cell_type": "markdown",
   "metadata": {},
   "source": [
    "# Deeper analysis #"
   ]
  },
  {
   "cell_type": "markdown",
   "metadata": {},
   "source": [
    "First, we read the pickles we create along the way."
   ]
  },
  {
   "cell_type": "code",
   "execution_count": 28,
   "metadata": {},
   "outputs": [],
   "source": [
    "all_sheets = clnt.loadPickle(\"../data/pickles/all_sheets.pkl\")"
   ]
  },
  {
   "cell_type": "markdown",
   "metadata": {},
   "source": [
    "Now, we take a look at the *Duration* data in the *Events* sheet. Since it is split to three sections, we turn it to one numeric value for easier processing."
   ]
  },
  {
   "cell_type": "code",
   "execution_count": 180,
   "metadata": {},
   "outputs": [],
   "source": [
    "# Processing for better information\n",
    "# Merging different duration data into one numeric column\n",
    "events = all_sheets[\"Events\"].copy()\n",
    "events[\"Duration - Merged\"] = (\n",
    "    events[\"Duration - Years\"] * 365\n",
    "    + events[\"Duration - Months\"] * 30\n",
    "    + events[\"Duration - Days\"]\n",
    ")\n",
    "events.loc[events[\"Start Date\"].astype(str).apply(lambda x:len(x.split(\"-\"))) < 3, \"Start Date\"] = \"0000-00-00\"\n",
    "clnt.savePickle(events, \"../data/pickles/clean_events.pkl\")"
   ]
  },
  {
   "cell_type": "markdown",
   "metadata": {},
   "source": [
    "Secondly, we explore the ages of apprentices, after cleaning up the string formatted entries."
   ]
  },
  {
   "cell_type": "code",
   "execution_count": 156,
   "metadata": {},
   "outputs": [
    {
     "data": {
      "image/png": "[encoded data removed]",
      "text/plain": [
       "<Figure size 576x396 with 1 Axes>"
      ]
     },
     "metadata": {},
     "output_type": "display_data"
    }
   ],
   "source": [
    "# Exploring apprentice age from person Mentions\n",
    "temp = all_sheets[\"Person Mentions\"].copy()\n",
    "temp[\"Age - Standard Form\"] = temp.loc[\n",
    "    temp[\"Age\"].apply(lambda x: clnt.isInt(x)), \"Age\"\n",
    "]\n",
    "temp[\"Professions - Standard Form\"] = temp[\n",
    "    \"Professions - Standard Forms\"\n",
    "].copy()\n",
    "temp = clnt.cleanColumns(\n",
    "    temp, to_go=[\"Professions - Standard Forms\", \"Age\"], eliminate_list=[\"Transcript\"]\n",
    ")\n",
    "\n",
    "# clnt.savePickle(temp, \"../data/pickles/clean_mentions.pkl\")\n",
    "\n",
    "temp = temp[temp[\"Tag\"] == \"grz:Apprentice\"]\n",
    "clnt.plotHist(temp[\"Age - Standard Form\"], atype=float,\n",
    "              title=\"Age Distribution of Apprentices\", range=[5,25],\n",
    "              bins=20)"
   ]
  },
  {
   "cell_type": "markdown",
   "metadata": {
    "heading_collapsed": true
   },
   "source": [
    "## Payment Distribution ##\n",
    "\n",
    "We check the distribution of full payments in a common currency."
   ]
  },
  {
   "cell_type": "code",
   "execution_count": 60,
   "metadata": {
    "hidden": true
   },
   "outputs": [
    {
     "data": {
      "image/png": "[encoded data removed]",
      "text/plain": [
       "<Figure size 576x396 with 1 Axes>"
      ]
     },
     "metadata": {},
     "output_type": "display_data"
    }
   ],
   "source": [
    "# Exploring the payment for apprenticeship\n",
    "temp = all_sheets[\"Financial Conditions\"].copy()\n",
    "temp[\"Total - Standard Form\"] = temp[\"Total Amount\"] * temp[\n",
    "    \"Currency\"\n",
    "].apply(lambda x: clnt.currencyMap(x))\n",
    "temp[\"Partial - Standard Form\"] = temp[\"Partial Amount\"] * temp[\n",
    "    \"Currency\"\n",
    "].apply(lambda x: clnt.currencyMap(x))\n",
    "# clnt.savePickle(temp, \"../data/pickles/clean_Financial.pkl\")\n",
    "clean_money = temp[temp[\"Paid in Goods\"] == False]\n",
    "clean_money = clean_money[clean_money[\"Paid by\"] == \"grz:MasterPayer\"]\n",
    "\n",
    "# After some experiment, this seems to be the best rate for visualization\n",
    "clnt.plotHist(\n",
    "    clean_money.loc[\n",
    "        clean_money[\"Total - Standard Form\"] > 0,\n",
    "        \"Total - Standard Form\"],\n",
    "    range=[0, 300], title=\"Distribution of Apprentice Total Wages in Soldi\"\n",
    ")\n",
    "\n"
   ]
  },
  {
   "cell_type": "markdown",
   "metadata": {
    "heading_collapsed": true
   },
   "source": [
    "## Average Ages per Profession ##"
   ]
  },
  {
   "cell_type": "code",
   "execution_count": 73,
   "metadata": {
    "hidden": true
   },
   "outputs": [],
   "source": [
    "mentions = clnt.loadPickle(\"../data/pickles/clean_mentions.pkl\")\n",
    "professions = all_sheets[\"professions\"].copy()\n",
    "temp = pd.merge(mentions[[\"Age - Standard Form\", \"Professions - Standard Form\"]],\n",
    "         professions[[\"Standard Form\", \"Category ID\"]],\n",
    "         left_on=\"Professions - Standard Form\",\n",
    "         right_on=\"Standard Form\")\n",
    "categories = all_sheets[\"categories\"].copy()\n",
    "temp = pd.merge(temp,\n",
    "                categories[[\"Label\", \"Extended Label\", \"ID\"]],\n",
    "                left_on=\"Category ID\", right_on=\"ID\")[[\"Age - Standard Form\",\n",
    "                                                       \"Professions - Standard Form\",\n",
    "                                                       \"Label\", \"Extended Label\"]]\n",
    "temp[\"Age - Standard Form\"] = pd.to_numeric(temp[\"Age - Standard Form\"])\n",
    "\n",
    "grouped_age = temp[[\"Age - Standard Form\", \"Label\"]].groupby([\"Label\"]).agg([\"mean\", \"count\"])\n",
    "grouped_age[(grouped_age[(\"Age - Standard Form\", \"mean\")] > -1) &\n",
    "            (grouped_age[(\"Age - Standard Form\", \"count\")] > 20)].sort_values((\"Age - Standard Form\", \"mean\"), ascending=False)\n",
    "# clnt.savePickle(grouped_age, \"../data/pickles/age_with_prof_categories.pkl\")"
   ]
  },
  {
   "cell_type": "markdown",
   "metadata": {
    "heading_collapsed": true
   },
   "source": [
    "## Geo Origin Counts against the Profession ##\n",
    "\n",
    "This section, due to its variant nature couldn't be analyzed as one frame, so I created a frame per profession for easy exploration."
   ]
  },
  {
   "cell_type": "code",
   "execution_count": 238,
   "metadata": {
    "hidden": true
   },
   "outputs": [
    {
     "name": "stderr",
     "output_type": "stream",
     "text": [
      "100%|██████████| 173/173 [00:01<00:00, 136.00it/s]\n"
     ]
    }
   ],
   "source": [
    "# Get the mapping of profession to where they come from, for only\n",
    "# apprentices\n",
    "mentions = clnt.loadPickle(\"../data/pickles/clean_mentions.pkl\")\n",
    "professions = all_sheets[\"professions\"].copy()\n",
    "temp = pd.merge(mentions[[\"Geo Origin - Standard Form\", \"Professions - Standard Form\"]],\n",
    "         professions[[\"Standard Form\", \"Category ID\"]],\n",
    "         left_on=\"Professions - Standard Form\",\n",
    "         right_on=\"Standard Form\")\n",
    "temp = pd.merge(temp,\n",
    "                categories[[\"Label\", \"ID\"]],\n",
    "                left_on=\"Category ID\", right_on=\"ID\")[[\"Geo Origin - Standard Form\",\n",
    "                                                       \"Label\"]]\n",
    "\n",
    "\n",
    "geo_counts = dict()\n",
    "u = temp[\"Label\"].unique()\n",
    "for label in tqdm(u):\n",
    "    geo_counts[label] = temp[\n",
    "        temp[\"Label\"] == label].groupby([\n",
    "        \"Geo Origin - Standard Form\"\n",
    "    ]).size().to_frame(name = 'count').reset_index()\n",
    "# clnt.savePickle(geo_counts, \"../data/pickles/profession_labels_with_province_counts_dict.pkl\")"
   ]
  },
  {
   "cell_type": "markdown",
   "metadata": {
    "heading_collapsed": true
   },
   "source": [
    "## Profession's Affect on Income ##\n",
    "\n",
    "First, we connect profession with a category label, then we average it and group it with the category label."
   ]
  },
  {
   "cell_type": "code",
   "execution_count": 27,
   "metadata": {
    "hidden": true,
    "run_control": {
     "marked": false
    }
   },
   "outputs": [
    {
     "data": {
      "text/html": [
       "<div>\n",
       "<style scoped>\n",
       "    .dataframe tbody tr th:only-of-type {\n",
       "        vertical-align: middle;\n",
       "    }\n",
       "\n",
       "    .dataframe tbody tr th {\n",
       "        vertical-align: top;\n",
       "    }\n",
       "\n",
       "    .dataframe thead tr th {\n",
       "        text-align: left;\n",
       "    }\n",
       "</style>\n",
       "<table border=\"1\" class=\"dataframe\">\n",
       "  <thead>\n",
       "    <tr>\n",
       "      <th></th>\n",
       "      <th>Label</th>\n",
       "      <th colspan=\"2\" halign=\"left\">Total - Standard Form</th>\n",
       "    </tr>\n",
       "    <tr>\n",
       "      <th></th>\n",
       "      <th></th>\n",
       "      <th>mean</th>\n",
       "      <th>count</th>\n",
       "    </tr>\n",
       "  </thead>\n",
       "  <tbody>\n",
       "    <tr>\n",
       "      <th>33</th>\n",
       "      <td>editoria e stampa</td>\n",
       "      <td>767.857143</td>\n",
       "      <td>7</td>\n",
       "    </tr>\n",
       "    <tr>\n",
       "      <th>42</th>\n",
       "      <td>fabbr. di strumenti musicali</td>\n",
       "      <td>409.821429</td>\n",
       "      <td>28</td>\n",
       "    </tr>\n",
       "    <tr>\n",
       "      <th>30</th>\n",
       "      <td>distillatura</td>\n",
       "      <td>249.615385</td>\n",
       "      <td>13</td>\n",
       "    </tr>\n",
       "    <tr>\n",
       "      <th>119</th>\n",
       "      <td>purgatura</td>\n",
       "      <td>179.166667</td>\n",
       "      <td>6</td>\n",
       "    </tr>\n",
       "    <tr>\n",
       "      <th>60</th>\n",
       "      <td>impiallacciatura e/o intarsio</td>\n",
       "      <td>127.537879</td>\n",
       "      <td>132</td>\n",
       "    </tr>\n",
       "    <tr>\n",
       "      <th>56</th>\n",
       "      <td>fornitura di materiali per l'edilizia</td>\n",
       "      <td>119.873418</td>\n",
       "      <td>79</td>\n",
       "    </tr>\n",
       "    <tr>\n",
       "      <th>95</th>\n",
       "      <td>pelli</td>\n",
       "      <td>118.593750</td>\n",
       "      <td>32</td>\n",
       "    </tr>\n",
       "    <tr>\n",
       "      <th>152</th>\n",
       "      <td>trasporto: merci</td>\n",
       "      <td>118.154762</td>\n",
       "      <td>84</td>\n",
       "    </tr>\n",
       "    <tr>\n",
       "      <th>4</th>\n",
       "      <td>altre tipologie merceologiche</td>\n",
       "      <td>116.336066</td>\n",
       "      <td>610</td>\n",
       "    </tr>\n",
       "    <tr>\n",
       "      <th>71</th>\n",
       "      <td>lavorazione della pietra per l'edilizia</td>\n",
       "      <td>115.415385</td>\n",
       "      <td>975</td>\n",
       "    </tr>\n",
       "  </tbody>\n",
       "</table>\n",
       "</div>"
      ],
      "text/plain": [
       "                                       Label Total - Standard Form      \n",
       "                                                              mean count\n",
       "33                         editoria e stampa            767.857143     7\n",
       "42              fabbr. di strumenti musicali            409.821429    28\n",
       "30                              distillatura            249.615385    13\n",
       "119                                purgatura            179.166667     6\n",
       "60             impiallacciatura e/o intarsio            127.537879   132\n",
       "56     fornitura di materiali per l'edilizia            119.873418    79\n",
       "95                                     pelli            118.593750    32\n",
       "152                         trasporto: merci            118.154762    84\n",
       "4              altre tipologie merceologiche            116.336066   610\n",
       "71   lavorazione della pietra per l'edilizia            115.415385   975"
      ]
     },
     "execution_count": 27,
     "metadata": {},
     "output_type": "execute_result"
    }
   ],
   "source": [
    "# Get the necessary datasets and exclude unnecessary variables\n",
    "mentions = clnt.loadPickle(\"../data/pickles/clean_mentions.pkl\")\n",
    "apprentices = mentions[mentions[\"Tag\"] == \"grz:Apprentice\"]\n",
    "apprentices_trimmed = apprentices[[\"Contract ID\", \"Professions - Standard Form\"]]\n",
    "finances = clnt.loadPickle(\"../data/pickles/clean_Financial.pkl\")[[\"Contract ID\",\n",
    "                                                                   \"Total - Standard Form\"]]\n",
    "professions = all_sheets[\"professions\"].copy()[[\"Standard Form\", \"Category ID\"]]\n",
    "categories = all_sheets[\"categories\"].copy()[[\"ID\", \"Label\"]]\n",
    "\n",
    "\n",
    "# Merge the right connections\n",
    "labels = pd.merge(professions, categories, left_on=\"Category ID\", right_on=\"ID\")[[\"Standard Form\", \"Label\"]]\n",
    "# clnt.savePickle(labels, \"../data/pickles/profession_standards_to_label.pkl\")\n",
    "\n",
    "apprentices_trimmed = pd.merge(apprentices_trimmed, labels,\n",
    "                               left_on=\"Professions - Standard Form\",\n",
    "                               right_on=\"Standard Form\")[[\"Contract ID\",\n",
    "                                                          \"Professions - Standard Form\",\n",
    "                                                          \"Label\"]]\n",
    "jobs_w_pays = pd.merge(apprentices_trimmed, finances, on=\"Contract ID\")\n",
    "jwp_grouped = jobs_w_pays[[\"Label\", \"Total - Standard Form\"]].groupby([\"Label\"]).agg([\"mean\",\"count\"]).reset_index()\n",
    "jwp_grouped[(jwp_grouped[(\"Total - Standard Form\", \"count\")] > 5) &\n",
    "            (jwp_grouped[(\"Total - Standard Form\", \"mean\")] > 1)].sort_values((\"Total - Standard Form\", \"mean\"),\n",
    "                                                                              ascending=False).head(10)"
   ]
  },
  {
   "cell_type": "markdown",
   "metadata": {
    "heading_collapsed": true
   },
   "source": [
    "## Age's Effect on Income ##"
   ]
  },
  {
   "cell_type": "code",
   "execution_count": 137,
   "metadata": {
    "hidden": true
   },
   "outputs": [
    {
     "data": {
      "text/plain": [
       "<matplotlib.axes._subplots.AxesSubplot at 0x7fb84a938760>"
      ]
     },
     "execution_count": 137,
     "metadata": {},
     "output_type": "execute_result"
    },
    {
     "data": {
      "image/png": "[encoded data removed]",
      "text/plain": [
       "<Figure size 576x396 with 1 Axes>"
      ]
     },
     "metadata": {},
     "output_type": "display_data"
    }
   ],
   "source": [
    "# Get necessary dataframes\n",
    "mentions = clnt.loadPickle(\"../data/pickles/clean_mentions.pkl\")\n",
    "apprentices = mentions[mentions[\"Tag\"] == \"grz:Apprentice\"]\n",
    "apprentices_trimmed = apprentices[[\"Contract ID\", \"Age - Standard Form\"]]\n",
    "finances = clnt.loadPickle(\"../data/pickles/clean_Financial.pkl\")[[\"Contract ID\",\n",
    "                                                                   \"Total - Standard Form\",\n",
    "                                                                   \"Paid by\"]]\n",
    "# Merging Process\n",
    "age_w_money = pd.merge(apprentices_trimmed, finances, on=\"Contract ID\")\n",
    "age_w_money[\"Age - Standard Form\"] = pd.to_numeric(age_w_money[\"Age - Standard Form\"])\n",
    "age_w_money = age_w_money[age_w_money[\"Paid by\"] == \"grz:MasterPayer\"][[\"Age - Standard Form\",\n",
    "                                                                        \"Total - Standard Form\"]]\n",
    "# Group and exclude non-master pays\n",
    "age_w_money = age_w_money.groupby([\"Age - Standard Form\"]).agg([\"mean\", \"count\"]).reset_index()\n",
    "awm_trimmed = age_w_money[(age_w_money[(\"Total - Standard Form\", \"count\")] > 500) &\n",
    "                          (age_w_money[(\"Total - Standard Form\", \"mean\")] > 0)]\n",
    "awm_trimmed.plot.line(\"Age - Standard Form\", (\"Total - Standard Form\", \"mean\"),\n",
    "                      title=\"Age vs Total Amount\")"
   ]
  },
  {
   "cell_type": "markdown",
   "metadata": {
    "hidden": true
   },
   "source": [
    "This graph is regardless of the time duration. Assuming all ages have done all amounts of apprenticeship time, the graph aboe should be accurate. However, since this is a big assumption, we are going to normalize the amount to per month."
   ]
  },
  {
   "cell_type": "code",
   "execution_count": 138,
   "metadata": {
    "hidden": true
   },
   "outputs": [
    {
     "data": {
      "text/plain": [
       "<matplotlib.axes._subplots.AxesSubplot at 0x7fb84b9c5880>"
      ]
     },
     "execution_count": 138,
     "metadata": {},
     "output_type": "execute_result"
    },
    {
     "data": {
      "image/png": "[encoded data removed]",
      "text/plain": [
       "<Figure size 576x396 with 1 Axes>"
      ]
     },
     "metadata": {},
     "output_type": "display_data"
    }
   ],
   "source": [
    "# Load dataframes\n",
    "events = clnt.loadPickle(\"../data/pickles/clean_events.pkl\")\n",
    "age_w_money = pd.merge(apprentices_trimmed, finances, on=\"Contract ID\")\n",
    "age_w_money = pd.merge(age_w_money, events, on=\"Contract ID\")\n",
    "\n",
    "# Exclude unnecessary sections, and adjust to time\n",
    "awm_timed = age_w_money[age_w_money[\"Paid by\"] == \"grz:MasterPayer\"]\n",
    "awm_timed = awm_timed[(awm_timed[\"Duration - Merged\"] > 0) &\n",
    "                      (awm_timed[\"Total - Standard Form\"] < 9999999)]\n",
    "awm_timed[\"Yearly\"] = awm_timed[\"Total - Standard Form\"] / awm_timed[\"Duration - Merged\"] * 365\n",
    "awm_timed = awm_timed[[\"Age - Standard Form\", \"Yearly\", \"Total - Standard Form\", \"Duration - Merged\"]]\n",
    "awm_timed.sort_values(\"Yearly\", ascending = False)\n",
    "awm_timed = awm_timed[[\"Age - Standard Form\", \"Yearly\"]]\n",
    "\n",
    "# Group and plot\n",
    "awm_grouped = awm_timed.groupby([\"Age - Standard Form\"]).agg([\"mean\", \"count\"]).reset_index()\n",
    "# awm_grouped.sort_values((\"Yearly\", \"count\"), ascending = False)\n",
    "awm_grouped = awm_grouped[(awm_grouped[(\"Yearly\", \"mean\")] > 0) &\n",
    "                          (awm_grouped[(\"Yearly\", \"mean\")] < 9999999) &\n",
    "                          (awm_grouped[(\"Yearly\", \"count\")] > 450)]\n",
    "awm_grouped.plot.line(\"Age - Standard Form\", (\"Yearly\", \"mean\"),\n",
    "                      title=\"Age vs Total Amount\")"
   ]
  },
  {
   "cell_type": "markdown",
   "metadata": {},
   "source": [
    "## Exploration of a New Table ##\n",
    "\n",
    "Here we generate one table of contracts and integrate only the sections that we will focus on in the main search, and do a deep analysis of it with correlation checks. The table will include:\n",
    "\n",
    "- Contract ID\n",
    "- Master(s)\n",
    "- Apprentice\n",
    "- Any extra people\n",
    "- Is there money exchange\n",
    "- Does Master Pay\n",
    "- Is the payment period whole?\n",
    "- Is the origin in italy?\n",
    "- What type of place\n",
    "- Where is the origin"
   ]
  },
  {
   "cell_type": "code",
   "execution_count": 428,
   "metadata": {
    "run_control": {
     "marked": true
    }
   },
   "outputs": [],
   "source": [
    "# Load dataframes\n",
    "contracts = all_sheets[\"Contracts\"].copy()[[\"Contract ID\",\n",
    "                                            \"Date\"]]\n",
    "events = clnt.loadPickle(\"../data/pickles/clean_events.pkl\")[[\"Contract ID\",\n",
    "                                                              \"Tag\",\n",
    "                                                              \"Start Date\",\n",
    "                                                              \"Duration - Merged\"]]\n",
    "financials = clnt.loadPickle(\"../data/pickles/clean_Financial.pkl\")[[\"Contract ID\",\n",
    "                                                                     \"Tag\",\n",
    "                                                                     \"Paid by\",\n",
    "                                                                     \"Paid in Goods\",\n",
    "                                                                     \"Periodization\",\n",
    "                                                                     \"Currency\",\n",
    "                                                                     \"Total Amount\"]]\n",
    "hosting = all_sheets[\"Hosting Conditions\"][[\"Contract ID\",\n",
    "                                            \"Tag\",\n",
    "                                            \"Paid by\",\n",
    "                                            \"Paid in Goods\"]]\n",
    "mentions = clnt.loadPickle(\"../data/pickles/clean_mentions.pkl\")[[\"Contract ID\",\n",
    "                                                                  \"Gender\",\n",
    "                                                                  \"Age - Standard Form\",\n",
    "                                                                  \"Geo Origin - Standard Form\",\n",
    "                                                                  \"Workshop - Site\",\n",
    "                                                                  \"Professions - Standard Form\",\n",
    "                                                                  \"Person ID\",\n",
    "                                                                  \"Tag\"]]"
   ]
  },
  {
   "cell_type": "code",
   "execution_count": 429,
   "metadata": {
    "run_control": {
     "marked": true
    }
   },
   "outputs": [],
   "source": [
    "# Prepare each row for easier understanding\n",
    "# TODO: Dont forget to convert dates to datetime in the end\n",
    "# Turn events into one-hot encoding on three different column\n",
    "events_tags = clnt.hotEncode(events, events.Tag)\n",
    "events_tags = events_tags.loc[events_tags[\"grz:Apprenticeship\"] != 0, [\"Contract ID\", \"grz:BreachOfContract\", \"grz:Flee\"]]\n",
    "events_tags.columns = [\"Contract ID\", \"Has BoContract\", \"Has Flee\"]\n",
    "the_table = pd.merge(contracts, events_tags, on = \"Contract ID\")\n",
    "\n",
    "# events[(events[\"Tag\"]!= \"grz:Apprenticeship\") & (events[\"Duration - Merged\"].astype(float) > 0)]\n",
    "# After the check above, its been deciced that the events with duration which are not apprenticeships\n",
    "# are very little, so they can be ignored\n",
    "# On the other hand, breach and flee dates are pretty abundant, neet to incorparate them in."
   ]
  },
  {
   "cell_type": "code",
   "execution_count": 430,
   "metadata": {
    "run_control": {
     "marked": true
    }
   },
   "outputs": [],
   "source": [
    "# Financial Tags extracted to encoding\n",
    "financial_tags = clnt.hotEncode(financials, financials.Tag)\n",
    "financial_tags = financial_tags[[\"Contract ID\", \"grz:SingleSalary\"]]\n",
    "financial_tags.columns = [\"Contract ID\", \"Has Single Salary\"]\n",
    "the_table = the_table.merge(financial_tags, on=\"Contract ID\")"
   ]
  },
  {
   "cell_type": "code",
   "execution_count": 431,
   "metadata": {
    "run_control": {
     "marked": true
    }
   },
   "outputs": [],
   "source": [
    "# Financial Paid by extracted\n",
    "financial_paidby = clnt.hotEncode(financials, financials[\"Paid by\"])[[\"Contract ID\", \"grz:MasterPayer\"]]\n",
    "financial_paidby.columns = [\"Contract ID\", \"Has Master Paying Salary\"]\n",
    "the_table = the_table.merge(financial_paidby, on=\"Contract ID\")"
   ]
  },
  {
   "cell_type": "code",
   "execution_count": 432,
   "metadata": {
    "run_control": {
     "marked": true
    }
   },
   "outputs": [],
   "source": [
    "# Financial Periodization\n",
    "financial_periodization = clnt.hotEncode(financials, financials.Periodization)[[\"Contract ID\", \"grz:WholePeriod\"]]\n",
    "financial_periodization.columns = [\"Contract ID\", \"Has Whole Period\"]\n",
    "the_table = the_table.merge(financial_periodization, on=\"Contract ID\")"
   ]
  },
  {
   "cell_type": "code",
   "execution_count": 433,
   "metadata": {
    "run_control": {
     "marked": true
    }
   },
   "outputs": [],
   "source": [
    "# Financial Currency\n",
    "financial_currency = clnt.hotEncode(financials, financials.Currency)#[[\"Contract ID\", \"grz:Ducati\"]]\n",
    "# financial_currency.columns = [\"Contract ID\", \"Has Ducati\"]\n",
    "financial_currency.columns = [\"Contract ID\", \"Has Ducati\", \"Has Soldi\", \"Has Lire\", \"Has Other Currency\"]\n",
    "the_table = the_table.merge(financial_currency, on=\"Contract ID\")"
   ]
  },
  {
   "cell_type": "code",
   "execution_count": 434,
   "metadata": {
    "run_control": {
     "marked": true
    }
   },
   "outputs": [],
   "source": [
    "# Hosting Paid by\n",
    "temp = hosting[hosting[\"Paid in Goods\"] == False]\n",
    "hosting_paid = clnt.hotEncode(temp, temp[\"Paid by\"])\n",
    "hosting_paid.columns = [\"Contract ID\", \"Apprentice Paid X Times\", \"Master Paid X Times\", \"Others Paid X Times\"]\n",
    "the_table = the_table.merge(hosting_paid)"
   ]
  },
  {
   "cell_type": "code",
   "execution_count": 435,
   "metadata": {
    "run_control": {
     "marked": true
    }
   },
   "outputs": [],
   "source": [
    "# Hosting Tag\n",
    "hosting_tag = clnt.hotEncode(temp, temp.Tag)\n",
    "hosting_tag.columns = [\"Contract ID\", \"Has Accommodation Payed\", \"Has Clothing Payed\", \"Has Generic Expenses Payed\", \"Has Personal Care Payed\"]\n",
    "the_table = the_table.merge(hosting_tag, on=\"Contract ID\")"
   ]
  },
  {
   "cell_type": "code",
   "execution_count": 436,
   "metadata": {
    "run_control": {
     "marked": true
    }
   },
   "outputs": [],
   "source": [
    "# Rest of the sections to add\n",
    "the_table = the_table.merge(events.loc[events[\"Tag\"] == \"grz:Apprenticeship\",\n",
    "                           [\"Contract ID\",\"Duration - Merged\"]], on=\"Contract ID\")\n",
    "financials_slice = financials[[\"Contract ID\", \"Paid in Goods\", \"Total Amount\"]]\n",
    "financials_slice.columns = [\"Contract ID\", \"Paid Salary in Goods\", \"Total Payment Received\"]\n",
    "the_table = the_table.merge(financials_slice, on=\"Contract ID\")\n",
    "\n",
    "mentions_slice = mentions.loc[mentions[\"Tag\"] == \"grz:Apprentice\", mentions.keys()[:-1]]\n",
    "the_table = the_table.merge(mentions_slice, on=\"Contract ID\")\n",
    "\n",
    "# Formatting and indexing\n",
    "the_table[\"Date\"] = pd.to_datetime(the_table[\"Date\"], errors=\"coerce\")\n",
    "the_table[\"Age - Standard Form\"] = pd.to_numeric(the_table[\"Age - Standard Form\"], errors=\"coerce\")\n",
    "the_table[\"Paid Salary in Goods\"] = the_table[\"Paid Salary in Goods\"].apply(lambda x:1 if x else 0)\n",
    "the_table = the_table.set_index(\"Contract ID\")"
   ]
  },
  {
   "cell_type": "code",
   "execution_count": 439,
   "metadata": {
    "run_control": {
     "marked": true
    }
   },
   "outputs": [],
   "source": [
    "clnt.savePickle(the_table, \"../data/pickles/table_of_all.pkl\")"
   ]
  },
  {
   "cell_type": "markdown",
   "metadata": {
    "heading_collapsed": true
   },
   "source": [
    "# Main Research #\n",
    "\n",
    "From here on, we will be exploring the connections of location data to multiple things, and the social network of "
   ]
  },
  {
   "cell_type": "code",
   "execution_count": null,
   "metadata": {
    "hidden": true
   },
   "outputs": [],
   "source": []
  }
 ],
 "metadata": {
  "kernelspec": {
   "display_name": "Python 3",
   "language": "python",
   "name": "python3"
  },
  "language_info": {
   "codemirror_mode": {
    "name": "ipython",
    "version": 3
   },
   "file_extension": ".py",
   "mimetype": "text/x-python",
   "name": "python",
   "nbconvert_exporter": "python",
   "pygments_lexer": "ipython3",
   "version": "3.8.2"
  },
  "varInspector": {
   "cols": {
    "lenName": 16,
    "lenType": 16,
    "lenVar": 40
   },
   "kernels_config": {
    "python": {
     "delete_cmd_postfix": "",
     "delete_cmd_prefix": "del ",
     "library": "var_list.py",
     "varRefreshCmd": "print(var_dic_list())"
    },
    "r": {
     "delete_cmd_postfix": ") ",
     "delete_cmd_prefix": "rm(",
     "library": "var_list.r",
     "varRefreshCmd": "cat(var_dic_list()) "
    }
   },
   "position": {
    "height": "223.85px",
    "left": "1492px",
    "right": "20px",
    "top": "201px",
    "width": "364px"
   },
   "types_to_exclude": [
    "module",
    "function",
    "builtin_function_or_method",
    "instance",
    "_Feature"
   ],
   "window_display": true
  }
 },
 "nbformat": 4,
 "nbformat_minor": 4
}
