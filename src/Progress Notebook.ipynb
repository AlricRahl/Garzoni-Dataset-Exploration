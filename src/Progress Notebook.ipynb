{
 "cells": [
  {
   "cell_type": "code",
   "execution_count": 1,
   "metadata": {},
   "outputs": [],
   "source": [
    "from importlib import reload\n",
    "import matplotlib.pyplot as plt\n",
    "from math import nan\n",
    "import numpy as np\n",
    "import pandas as pd\n",
    "import pickle as pkl\n",
    "from tqdm import tqdm\n",
    "from IPython import get_ipython\n",
    "\n",
    "import myprofiler as mp\n",
    "import cleantools as clnt"
   ]
  },
  {
   "cell_type": "markdown",
   "metadata": {},
   "source": [
    "# Introducion #\n",
    "\n",
    "This file is for exploration, cleaning, and saving of data."
   ]
  },
  {
   "cell_type": "code",
   "execution_count": 2,
   "metadata": {},
   "outputs": [],
   "source": [
    "def reporting(all_sheets):\n",
    "    \"\"\"This section takes a report of everything\n",
    "\n",
    "    \"\"\"\n",
    "    print(\"Reporting each contracts sheet...\")\n",
    "    for name, df in tqdm(all_sheets.items()):\n",
    "        mp.getReport(df, \"_\".join(name.split()))"
   ]
  },
  {
   "cell_type": "markdown",
   "metadata": {},
   "source": [
    "Below are the basic variables defined to aid our process."
   ]
  },
  {
   "cell_type": "code",
   "execution_count": 3,
   "metadata": {},
   "outputs": [],
   "source": [
    "files = {\n",
    "    \"locations\": \"../data/locations_20200520_143742.xlsx\",\n",
    "    \"persons\": \"../data/persons_20200520_143122.xlsx\",\n",
    "    \"personMentions\": \"../data/person_mentions_20200520_143017.xlsx\",\n",
    "    \"personRelationships\": \"../data/person_relationships_20200520_143219.xlsx\",\n",
    "    \"professions\": \"../data/professions_20200520_143812.xlsx\",\n",
    "    \"categories\": \"../data/profession_categories_20200520_143818.xlsx\",\n",
    "}\n",
    "unrelated_colums = {\n",
    "    \"Financial Conditions\": None,\n",
    "    \"personMentions\": None,\n",
    "    \"persons\": None,\n",
    "    \"personRelationships\": None,\n",
    "    \"categories\": None,\n",
    "    \"contracts\": None,\n",
    "    \"Names\": None,\n",
    "    \"Hosting Conditions\": [\"Type of Clothing\"],\n",
    "    \"Locations\": [\"GeoNames ID\"],\n",
    "    \"Events\": [\n",
    "        \"End Date\",\n",
    "        \"Duration - Years\",\n",
    "        \"Duration - Months\",\n",
    "        \"Duration - Days\",\n",
    "    ],\n",
    "}\n",
    "contracts_sheets = [\n",
    "    \"Contracts\",\n",
    "    \"Person Mentions\",\n",
    "    \"Hosting Conditions\",\n",
    "    \"Financial Conditions\",\n",
    "    \"Events\",\n",
    "]"
   ]
  },
  {
   "cell_type": "markdown",
   "metadata": {},
   "source": [
    "Here is the report making and information extracting section."
   ]
  },
  {
   "cell_type": "code",
   "execution_count": null,
   "metadata": {},
   "outputs": [],
   "source": [
    "print(\"Extracting sheets from contracts...\")\n",
    "all_sheets = mp.readFromXlsx(\n",
    "    \"../data/contracts_20200520_142649.xlsx\", contracts_sheets\n",
    ")\n",
    "\n",
    "print(\"Extracting Rest of the xlsx documents...\")\n",
    "for name, file in tqdm(files.items()):\n",
    "    all_sheets[name] = mp.readFromXlsx(file)\n",
    "\n",
    "print(\"Reporting all sheets...\")\n",
    "reporting(all_sheets)"
   ]
  },
  {
   "cell_type": "markdown",
   "metadata": {},
   "source": [
    "# Deeper analysis #"
   ]
  },
  {
   "cell_type": "markdown",
   "metadata": {},
   "source": [
    "First, after the process I saved the variables to a pickle for faster access, so we read that."
   ]
  },
  {
   "cell_type": "code",
   "execution_count": 4,
   "metadata": {},
   "outputs": [],
   "source": [
    "all_sheets = clnt.loadPickle(\"../data/pickles/all_sheets.pkl\")"
   ]
  },
  {
   "cell_type": "markdown",
   "metadata": {},
   "source": [
    "First, we take a look at the *Duration* data in the *Events* sheet. Since it is split to three sections, we turn it to one numeric value for easier processing."
   ]
  },
  {
   "cell_type": "code",
   "execution_count": null,
   "metadata": {},
   "outputs": [],
   "source": [
    "# Processing for better information\n",
    "# Merging different duration data into one numeric column\n",
    "events = all_sheets[\"Events\"].copy()\n",
    "events[\"Duration - Merged\"] = (\n",
    "    events[\"Duration - Years\"] * 365\n",
    "    + events[\"Duration - Months\"] * 30\n",
    "    + events[\"Duration - Days\"]\n",
    ")"
   ]
  },
  {
   "cell_type": "markdown",
   "metadata": {},
   "source": [
    "Secondly, we explore the ages of apprentices, after cleaning up the string formatted entries."
   ]
  },
  {
   "cell_type": "code",
   "execution_count": 54,
   "metadata": {},
   "outputs": [
    {
     "data": {
      "image/png": "[encoded data removed]",
      "text/plain": [
       "<Figure size 576x396 with 1 Axes>"
      ]
     },
     "metadata": {},
     "output_type": "display_data"
    }
   ],
   "source": [
    "# Exploring apprentice age from person Mentions\n",
    "temp = all_sheets[\"Person Mentions\"].copy()\n",
    "temp[\"Age - Standard Form\"] = temp.loc[\n",
    "    temp[\"Age\"].apply(lambda x: clnt.isInt(x)), \"Age\"\n",
    "]\n",
    "temp[\"Professions - Standard Form\"] = temp[\n",
    "    \"Professions - Standard Forms\"\n",
    "].copy()\n",
    "temp = clnt.cleanColumns(\n",
    "    temp, to_go=[\"Professions - Standard Forms\", \"Age\"], eliminate_list=[\"Transcript\"]\n",
    ")\n",
    "# clnt.savePickle(temp, \"../data/pickles/clean_mentions.pkl\")\n",
    "\n",
    "temp = temp[temp[\"Tag\"] == \"grz:Apprentice\"]\n",
    "clnt.plotHist(temp[\"Age - Standard Form\"], atype=float,\n",
    "              title=\"Age Distribution of Apprentices\", range=[5,25],\n",
    "              bins=20)"
   ]
  },
  {
   "cell_type": "code",
   "execution_count": 51,
   "metadata": {},
   "outputs": [
    {
     "data": {
      "image/png": "[encoded data removed]",
      "text/plain": [
       "<Figure size 576x396 with 1 Axes>"
      ]
     },
     "metadata": {},
     "output_type": "display_data"
    }
   ],
   "source": [
    "# Exploring the payment for apprenticeship\n",
    "temp = all_sheets[\"Financial Conditions\"].copy()\n",
    "temp[\"Total - Standard Form\"] = temp[\"Total Amount\"] * temp[\n",
    "    \"Currency\"\n",
    "].apply(lambda x: clnt.currencyMap(x))\n",
    "temp[\"Partial - Standard Form\"] = temp[\"Partial Amount\"] * temp[\n",
    "    \"Currency\"\n",
    "].apply(lambda x: clnt.currencyMap(x))\n",
    "clean_money = temp[temp[\"Paid in Goods\"] == False]\n",
    "clean_money = clean_money[clean_money[\"Paid by\"] == \"grz:MasterPayer\"]\n",
    "\n",
    "# After some experiment, this seems to be the best rate for visualization\n",
    "clnt.plotHist(\n",
    "    clean_money.loc[\n",
    "        clean_money[\"Total - Standard Form\"] > 0,\n",
    "        \"Total - Standard Form\"],\n",
    "    range=[0, 300], title=\"Distribution of Apprentice Total Wages in Soldi\"\n",
    ")\n",
    "\n",
    "# clnt.savePickle(clean_money, \"../data/pickles/clean_Financial.pkl\")"
   ]
  },
  {
   "cell_type": "code",
   "execution_count": 73,
   "metadata": {},
   "outputs": [],
   "source": [
    "# Get the distribution of average ages depending the category of profession\n",
    "mentions = clnt.loadPickle(\"../data/pickles/clean_mentions.pkl\")\n",
    "professions = all_sheets[\"professions\"].copy()\n",
    "temp = pd.merge(mentions[[\"Age - Standard Form\", \"Professions - Standard Form\"]],\n",
    "         professions[[\"Standard Form\", \"Category ID\"]],\n",
    "         left_on=\"Professions - Standard Form\",\n",
    "         right_on=\"Standard Form\")\n",
    "categories = all_sheets[\"categories\"].copy()\n",
    "temp = pd.merge(temp,\n",
    "                categories[[\"Label\", \"Extended Label\", \"ID\"]],\n",
    "                left_on=\"Category ID\", right_on=\"ID\")[[\"Age - Standard Form\",\n",
    "                                                       \"Professions - Standard Form\",\n",
    "                                                       \"Label\", \"Extended Label\"]]\n",
    "temp[\"Age - Standard Form\"] = pd.to_numeric(temp[\"Age - Standard Form\"])\n",
    "\n",
    "grouped_age = temp[[\"Age - Standard Form\", \"Label\"]].groupby([\"Label\"]).agg([\"mean\", \"count\"])\n",
    "grouped_age[(grouped_age[(\"Age - Standard Form\", \"mean\")] > -1) &\n",
    "            (grouped_age[(\"Age - Standard Form\", \"count\")] > 20)].sort_values((\"Age - Standard Form\", \"mean\"), ascending=False)\n",
    "# clnt.savePickle(grouped_age, \"../data/pickles/age_with_prof_categories.pkl\")"
   ]
  },
  {
   "cell_type": "code",
   "execution_count": 238,
   "metadata": {},
   "outputs": [
    {
     "name": "stderr",
     "output_type": "stream",
     "text": [
      "100%|██████████| 173/173 [00:01<00:00, 136.00it/s]\n"
     ]
    }
   ],
   "source": [
    "# Get the mapping of profession to where they come from, for only\n",
    "# apprentices\n",
    "temp = pd.merge(mentions[[\"Geo Origin - Standard Form\", \"Professions - Standard Form\"]],\n",
    "         professions[[\"Standard Form\", \"Category ID\"]],\n",
    "         left_on=\"Professions - Standard Form\",\n",
    "         right_on=\"Standard Form\")\n",
    "temp = pd.merge(temp,\n",
    "                categories[[\"Label\", \"ID\"]],\n",
    "                left_on=\"Category ID\", right_on=\"ID\")[[\"Geo Origin - Standard Form\",\n",
    "                                                       \"Label\"]]\n",
    "\n",
    "\n",
    "geo_counts = dict()\n",
    "u = temp[\"Label\"].unique()\n",
    "for label in tqdm(u):\n",
    "    geo_counts[label] = temp[\n",
    "        temp[\"Label\"] == label].groupby([\n",
    "        \"Geo Origin - Standard Form\"\n",
    "    ]).size().to_frame(name = 'count').reset_index()\n",
    "# clnt.savePickle(geo_counts, \"../data/pickles/profession_labels_with_province_counts_dict.pkl\")"
   ]
  },
  {
   "cell_type": "code",
   "execution_count": null,
   "metadata": {},
   "outputs": [],
   "source": []
  }
 ],
 "metadata": {
  "kernelspec": {
   "display_name": "Python 3",
   "language": "python",
   "name": "python3"
  },
  "language_info": {
   "codemirror_mode": {
    "name": "ipython",
    "version": 3
   },
   "file_extension": ".py",
   "mimetype": "text/x-python",
   "name": "python",
   "nbconvert_exporter": "python",
   "pygments_lexer": "ipython3",
   "version": "3.8.2"
  }
 },
 "nbformat": 4,
 "nbformat_minor": 4
}
